{
 "cells": [
  {
   "cell_type": "code",
   "execution_count": 1,
   "metadata": {},
   "outputs": [],
   "source": [
    "import momi"
   ]
  },
  {
   "cell_type": "code",
   "execution_count": 2,
   "metadata": {},
   "outputs": [],
   "source": [
    "import logging\n",
    "logging.basicConfig(level=logging.INFO,\n",
    "                    filename=\"momi_demography_102820.log\")"
   ]
  },
  {
   "cell_type": "code",
   "execution_count": 221,
   "metadata": {},
   "outputs": [],
   "source": [
    "# here is a stable population model with historical sampling\n",
    "# to actually generate data for this I had to add the historical sampling point one generation after a split event\n",
    "\n",
    "NeAlb=1e4\n",
    "\n",
    "model_stab = momi.DemographicModel(N_e=NeAlb, gen_time=1,\n",
    "                              muts_per_gen=4.5e-8)\n",
    "model_stab.add_leaf(\"ALB\",N=NeAlb,t=109)\n",
    "model_stab.add_leaf(\"CON\",N=NeAlb)\n",
    "model_stab.move_lineages(\"CON\",\"ALB\",t=110)"
   ]
  },
  {
   "cell_type": "code",
   "execution_count": 269,
   "metadata": {},
   "outputs": [
    {
     "data": {
      "image/png": "[encoded data removed]",
      "text/plain": [
       "<Figure size 432x576 with 2 Axes>"
      ]
     },
     "metadata": {
      "needs_background": "light"
     },
     "output_type": "display_data"
    }
   ],
   "source": [
    "#plot demography\n",
    "\n",
    "%matplotlib inline\n",
    "\n",
    "yticks = [20, 40, 60, 80, 100, 120, 1000, 10000]\n",
    "\n",
    "fig = momi.DemographyPlot(\n",
    "    model_stab, [\"ALB\", \"CON\"],\n",
    "    figsize=(6,8),\n",
    "    major_yticks=yticks,\n",
    "    linthreshy=150)"
   ]
  },
  {
   "cell_type": "code",
   "execution_count": 223,
   "metadata": {},
   "outputs": [],
   "source": [
    "#simulating data - 25 chromosomes, 200 rad loci * 300 bp each per chromosome. \n",
    "#not completely realistic - could simulate whole chromosomes, create bed file specifying RAD loci, then extract SFS?\n",
    "#Think about recomb rate! \n",
    "\n",
    "recoms_per_gen = 1.25e-8\n",
    "bases_per_locus = int(6e5)\n",
    "n_loci = 25\n",
    "ploidy = 2\n",
    "\n",
    "# n_alleles per population (n_individuals = n_alleles / ploidy)\n",
    "sampled_n_dict = {\"ALB\":200, \"CON\":200}\n",
    "\n",
    "# create data directory if it doesn't exist\n",
    "!mkdir -p momi_stable_datasets_102820/\n",
    "\n",
    "# simulate 20 \"chromosomes\", saving each in a separate vcf file\n",
    "for chrom in range(1, n_loci+1):\n",
    "      model_stab.simulate_vcf(\n",
    "            f\"momi_stable_datasets_102820/{chrom}\",\n",
    "            recoms_per_gen=recoms_per_gen,\n",
    "            length=bases_per_locus,\n",
    "            chrom_name=f\"chr{chrom}\",\n",
    "            ploidy=ploidy,\n",
    "            random_seed=1234+chrom,\n",
    "            sampled_n_dict=sampled_n_dict,\n",
    "            force=True)"
   ]
  },
  {
   "cell_type": "code",
   "execution_count": 224,
   "metadata": {},
   "outputs": [
    {
     "name": "stdout",
     "output_type": "stream",
     "text": [
      "ALB_0\tALB\r\n",
      "ALB_1\tALB\r\n",
      "ALB_2\tALB\r\n",
      "ALB_3\tALB\r\n",
      "ALB_4\tALB\r\n",
      "ALB_5\tALB\r\n",
      "ALB_6\tALB\r\n",
      "ALB_7\tALB\r\n",
      "ALB_8\tALB\r\n",
      "ALB_9\tALB\r\n",
      "ALB_10\tALB\r\n",
      "ALB_11\tALB\r\n",
      "ALB_12\tALB\r\n",
      "ALB_13\tALB\r\n",
      "ALB_14\tALB\r\n",
      "ALB_15\tALB\r\n",
      "ALB_16\tALB\r\n",
      "ALB_17\tALB\r\n",
      "ALB_18\tALB\r\n",
      "ALB_19\tALB\r\n",
      "ALB_20\tALB\r\n",
      "ALB_21\tALB\r\n",
      "ALB_22\tALB\r\n",
      "ALB_23\tALB\r\n",
      "ALB_24\tALB\r\n",
      "ALB_25\tALB\r\n",
      "ALB_26\tALB\r\n",
      "ALB_27\tALB\r\n",
      "ALB_28\tALB\r\n",
      "ALB_29\tALB\r\n",
      "ALB_30\tALB\r\n",
      "ALB_31\tALB\r\n",
      "ALB_32\tALB\r\n",
      "ALB_33\tALB\r\n",
      "ALB_34\tALB\r\n",
      "ALB_35\tALB\r\n",
      "ALB_36\tALB\r\n",
      "ALB_37\tALB\r\n",
      "ALB_38\tALB\r\n",
      "ALB_39\tALB\r\n",
      "ALB_40\tALB\r\n",
      "ALB_41\tALB\r\n",
      "ALB_42\tALB\r\n",
      "ALB_43\tALB\r\n",
      "ALB_44\tALB\r\n",
      "ALB_45\tALB\r\n",
      "ALB_46\tALB\r\n",
      "ALB_47\tALB\r\n",
      "ALB_48\tALB\r\n",
      "ALB_49\tALB\r\n",
      "ALB_50\tALB\r\n",
      "ALB_51\tALB\r\n",
      "ALB_52\tALB\r\n",
      "ALB_53\tALB\r\n",
      "ALB_54\tALB\r\n",
      "ALB_55\tALB\r\n",
      "ALB_56\tALB\r\n",
      "ALB_57\tALB\r\n",
      "ALB_58\tALB\r\n",
      "ALB_59\tALB\r\n",
      "ALB_60\tALB\r\n",
      "ALB_61\tALB\r\n",
      "ALB_62\tALB\r\n",
      "ALB_63\tALB\r\n",
      "ALB_64\tALB\r\n",
      "ALB_65\tALB\r\n",
      "ALB_66\tALB\r\n",
      "ALB_67\tALB\r\n",
      "ALB_68\tALB\r\n",
      "ALB_69\tALB\r\n",
      "ALB_70\tALB\r\n",
      "ALB_71\tALB\r\n",
      "ALB_72\tALB\r\n",
      "ALB_73\tALB\r\n",
      "ALB_74\tALB\r\n",
      "ALB_75\tALB\r\n",
      "ALB_76\tALB\r\n",
      "ALB_77\tALB\r\n",
      "ALB_78\tALB\r\n",
      "ALB_79\tALB\r\n",
      "ALB_80\tALB\r\n",
      "ALB_81\tALB\r\n",
      "ALB_82\tALB\r\n",
      "ALB_83\tALB\r\n",
      "ALB_84\tALB\r\n",
      "ALB_85\tALB\r\n",
      "ALB_86\tALB\r\n",
      "ALB_87\tALB\r\n",
      "ALB_88\tALB\r\n",
      "ALB_89\tALB\r\n",
      "ALB_90\tALB\r\n",
      "ALB_91\tALB\r\n",
      "ALB_92\tALB\r\n",
      "ALB_93\tALB\r\n",
      "ALB_94\tALB\r\n",
      "ALB_95\tALB\r\n",
      "ALB_96\tALB\r\n",
      "ALB_97\tALB\r\n",
      "ALB_98\tALB\r\n",
      "ALB_99\tALB\r\n",
      "CON_0\tCON\r\n",
      "CON_1\tCON\r\n",
      "CON_2\tCON\r\n",
      "CON_3\tCON\r\n",
      "CON_4\tCON\r\n",
      "CON_5\tCON\r\n",
      "CON_6\tCON\r\n",
      "CON_7\tCON\r\n",
      "CON_8\tCON\r\n",
      "CON_9\tCON\r\n",
      "CON_10\tCON\r\n",
      "CON_11\tCON\r\n",
      "CON_12\tCON\r\n",
      "CON_13\tCON\r\n",
      "CON_14\tCON\r\n",
      "CON_15\tCON\r\n",
      "CON_16\tCON\r\n",
      "CON_17\tCON\r\n",
      "CON_18\tCON\r\n",
      "CON_19\tCON\r\n",
      "CON_20\tCON\r\n",
      "CON_21\tCON\r\n",
      "CON_22\tCON\r\n",
      "CON_23\tCON\r\n",
      "CON_24\tCON\r\n",
      "CON_25\tCON\r\n",
      "CON_26\tCON\r\n",
      "CON_27\tCON\r\n",
      "CON_28\tCON\r\n",
      "CON_29\tCON\r\n",
      "CON_30\tCON\r\n",
      "CON_31\tCON\r\n",
      "CON_32\tCON\r\n",
      "CON_33\tCON\r\n",
      "CON_34\tCON\r\n",
      "CON_35\tCON\r\n",
      "CON_36\tCON\r\n",
      "CON_37\tCON\r\n",
      "CON_38\tCON\r\n",
      "CON_39\tCON\r\n",
      "CON_40\tCON\r\n",
      "CON_41\tCON\r\n",
      "CON_42\tCON\r\n",
      "CON_43\tCON\r\n",
      "CON_44\tCON\r\n",
      "CON_45\tCON\r\n",
      "CON_46\tCON\r\n",
      "CON_47\tCON\r\n",
      "CON_48\tCON\r\n",
      "CON_49\tCON\r\n",
      "CON_50\tCON\r\n",
      "CON_51\tCON\r\n",
      "CON_52\tCON\r\n",
      "CON_53\tCON\r\n",
      "CON_54\tCON\r\n",
      "CON_55\tCON\r\n",
      "CON_56\tCON\r\n",
      "CON_57\tCON\r\n",
      "CON_58\tCON\r\n",
      "CON_59\tCON\r\n",
      "CON_60\tCON\r\n",
      "CON_61\tCON\r\n",
      "CON_62\tCON\r\n",
      "CON_63\tCON\r\n",
      "CON_64\tCON\r\n",
      "CON_65\tCON\r\n",
      "CON_66\tCON\r\n",
      "CON_67\tCON\r\n",
      "CON_68\tCON\r\n",
      "CON_69\tCON\r\n",
      "CON_70\tCON\r\n",
      "CON_71\tCON\r\n",
      "CON_72\tCON\r\n",
      "CON_73\tCON\r\n",
      "CON_74\tCON\r\n",
      "CON_75\tCON\r\n",
      "CON_76\tCON\r\n",
      "CON_77\tCON\r\n",
      "CON_78\tCON\r\n",
      "CON_79\tCON\r\n",
      "CON_80\tCON\r\n",
      "CON_81\tCON\r\n",
      "CON_82\tCON\r\n",
      "CON_83\tCON\r\n",
      "CON_84\tCON\r\n",
      "CON_85\tCON\r\n",
      "CON_86\tCON\r\n",
      "CON_87\tCON\r\n",
      "CON_88\tCON\r\n",
      "CON_89\tCON\r\n",
      "CON_90\tCON\r\n",
      "CON_91\tCON\r\n",
      "CON_92\tCON\r\n",
      "CON_93\tCON\r\n",
      "CON_94\tCON\r\n",
      "CON_95\tCON\r\n",
      "CON_96\tCON\r\n",
      "CON_97\tCON\r\n",
      "CON_98\tCON\r\n",
      "CON_99\tCON\r\n"
     ]
    }
   ],
   "source": [
    "# need a dict mapping samples to populations\n",
    "ind2pop = {}\n",
    "for pop, n in sampled_n_dict.items():\n",
    "    for i in range(int(n / ploidy)):\n",
    "        # in the vcf, samples are named like YRI_0, YRI_1, CHB_0, etc\n",
    "        ind2pop[\"{}_{}\".format(pop, i)] = pop\n",
    "\n",
    "with open(\"momi_stable_datasets_102820/ind2pop.txt\", \"w\") as f:\n",
    "    for i, p in ind2pop.items():\n",
    "        print(i, p, sep=\"\\t\", file=f)\n",
    "\n",
    "!cat momi_stable_datasets_102820/ind2pop.txt"
   ]
  },
  {
   "cell_type": "code",
   "execution_count": 225,
   "metadata": {},
   "outputs": [],
   "source": [
    "# can't comment in commands with %%sh so I will explain these next two steps here\n",
    "# first compute allele counts with momi.read_vcf\n",
    "# usage: python -m momi.read_vcf $VCF $IND2POP $OUTFILE --bed $BED:\n",
    "# then extract combined SFS, split into 100 blocks for jackknifing / bootstrap\n",
    "# format: python -m momi.extract_sfs $OUTFILE $NBLOCKS $COUNTS..."
   ]
  },
  {
   "cell_type": "code",
   "execution_count": 226,
   "metadata": {},
   "outputs": [],
   "source": [
    "%%sh\n",
    "for chrom in `seq 1 25`;\n",
    "do\n",
    "    python -m momi.read_vcf \\\n",
    "           momi_stable_datasets_102820/$chrom.vcf.gz momi_stable_datasets_102820/ind2pop.txt \\\n",
    "           momi_stable_datasets_102820/$chrom.snpAlleleCounts.gz \\\n",
    "           --bed momi_stable_datasets_102820/$chrom.bed\n",
    "done"
   ]
  },
  {
   "cell_type": "code",
   "execution_count": 227,
   "metadata": {},
   "outputs": [],
   "source": [
    "%%sh\n",
    "python -m momi.extract_sfs momi_stable_datasets_102820/sfs.gz 100 momi_stable_datasets_102820/*.snpAlleleCounts.gz"
   ]
  },
  {
   "cell_type": "code",
   "execution_count": 228,
   "metadata": {},
   "outputs": [],
   "source": [
    "# read sfs into python!\n",
    "sfs = momi.Sfs.load(\"momi_stable_datasets_102820/sfs.gz\")"
   ]
  },
  {
   "cell_type": "code",
   "execution_count": 229,
   "metadata": {},
   "outputs": [],
   "source": [
    "#set model for inference - constant pop size, contemporary samples only!\n",
    "model_inf_constant_contemp =  momi.DemographicModel(N_e=NeAlb, gen_time=1, muts_per_gen=4.5e-8)"
   ]
  },
  {
   "cell_type": "code",
   "execution_count": 230,
   "metadata": {},
   "outputs": [],
   "source": [
    "#add data to model\n",
    "model_inf_constant_contemp.set_data(sfs)"
   ]
  },
  {
   "cell_type": "code",
   "execution_count": 231,
   "metadata": {},
   "outputs": [],
   "source": [
    "#define parameters to infer\n",
    "model_inf_constant_contemp.add_size_param(\"n_constant\")"
   ]
  },
  {
   "cell_type": "code",
   "execution_count": 232,
   "metadata": {},
   "outputs": [],
   "source": [
    "model_inf_constant_contemp.add_leaf(\"CON\",N=\"n_constant\")"
   ]
  },
  {
   "cell_type": "code",
   "execution_count": 233,
   "metadata": {
    "scrolled": true
   },
   "outputs": [
    {
     "data": {
      "text/plain": [
       "            fun: 0.0031108463119727046\n",
       "            jac: array([2.66379792e-12])\n",
       "  kl_divergence: 0.0031108463119727046\n",
       " log_likelihood: -653329.6274452042\n",
       "        message: 'Converged (|f_n-f_(n-1)| ~= 0)'\n",
       "           nfev: 11\n",
       "            nit: 4\n",
       "     parameters: ParamsDict({'n_constant': 9886.351033099008})\n",
       "         status: 1\n",
       "        success: True\n",
       "              x: array([9.1989104])"
      ]
     },
     "execution_count": 233,
     "metadata": {},
     "output_type": "execute_result"
    }
   ],
   "source": [
    "model_inf_constant_contemp.optimize(method=\"TNC\")"
   ]
  },
  {
   "cell_type": "code",
   "execution_count": 234,
   "metadata": {},
   "outputs": [
    {
     "data": {
      "text/plain": [
       "ParamsDict({'n_constant': 9886.351033099008})"
      ]
     },
     "execution_count": 234,
     "metadata": {},
     "output_type": "execute_result"
    }
   ],
   "source": [
    "model_inf_constant_contemp.get_params()"
   ]
  },
  {
   "cell_type": "code",
   "execution_count": 270,
   "metadata": {
    "scrolled": true
   },
   "outputs": [
    {
     "data": {
      "image/png": "[encoded data removed]",
      "text/plain": [
       "<Figure size 432x576 with 2 Axes>"
      ]
     },
     "metadata": {
      "needs_background": "light"
     },
     "output_type": "display_data"
    }
   ],
   "source": [
    "fig = momi.DemographyPlot(model_inf_constant_contemp, [\"CON\"],\n",
    "                          figsize=(6,8), linthreshy=150,\n",
    "                          major_yticks=yticks,)"
   ]
  },
  {
   "cell_type": "code",
   "execution_count": null,
   "metadata": {},
   "outputs": [],
   "source": []
  },
  {
   "cell_type": "code",
   "execution_count": 236,
   "metadata": {},
   "outputs": [],
   "source": [
    "#set model for inference - contemporary samples, 2 different pop sizes assumed!\n",
    "model_inf_change_contemp =  momi.DemographicModel(N_e=NeAlb, gen_time=1, muts_per_gen=4.5e-8)"
   ]
  },
  {
   "cell_type": "code",
   "execution_count": 237,
   "metadata": {},
   "outputs": [],
   "source": [
    "#add data to model\n",
    "model_inf_change_contemp.set_data(sfs)"
   ]
  },
  {
   "cell_type": "code",
   "execution_count": 238,
   "metadata": {},
   "outputs": [],
   "source": [
    "#define parameters to infer - model with size change and unknown time of decline\n",
    "model_inf_change_contemp.add_size_param(\"n_alb\")\n",
    "model_inf_change_contemp.add_size_param(\"n_bot\")\n",
    "model_inf_change_contemp.add_time_param(\"t_bot\",upper=1e2)"
   ]
  },
  {
   "cell_type": "code",
   "execution_count": 239,
   "metadata": {},
   "outputs": [],
   "source": [
    "model_inf_change_contemp.add_leaf(\"CON\",N=\"n_bot\")\n",
    "model_inf_change_contemp.set_size(\"CON\", N=\"n_alb\", t=\"t_bot\")"
   ]
  },
  {
   "cell_type": "code",
   "execution_count": 240,
   "metadata": {},
   "outputs": [
    {
     "data": {
      "text/plain": [
       "            fun: 0.003108099165177997\n",
       "            jac: array([ 3.55233160e-07, -2.89558957e-06,  7.55190651e-07])\n",
       "  kl_divergence: 0.003108099165177997\n",
       " log_likelihood: -653329.194132246\n",
       "        message: 'Converged (|f_n-f_(n-1)| ~= 0)'\n",
       "           nfev: 22\n",
       "            nit: 7\n",
       "     parameters: ParamsDict({'n_alb': 9887.148945312327, 'n_bot': 9631.448194279763, 't_bot': 62.52284600209978})\n",
       "         status: 1\n",
       "        success: True\n",
       "              x: array([9.19899111, 9.17278888, 0.51180051])"
      ]
     },
     "execution_count": 240,
     "metadata": {},
     "output_type": "execute_result"
    }
   ],
   "source": [
    "model_inf_change_contemp.optimize(method=\"TNC\")"
   ]
  },
  {
   "cell_type": "code",
   "execution_count": 241,
   "metadata": {},
   "outputs": [
    {
     "data": {
      "text/plain": [
       "ParamsDict({'n_alb': 9887.148945312327, 'n_bot': 9631.448194279763, 't_bot': 62.52284600209978})"
      ]
     },
     "execution_count": 241,
     "metadata": {},
     "output_type": "execute_result"
    }
   ],
   "source": [
    "model_inf_change_contemp.get_params()"
   ]
  },
  {
   "cell_type": "code",
   "execution_count": 271,
   "metadata": {
    "scrolled": false
   },
   "outputs": [
    {
     "data": {
      "image/png": "[encoded data removed]",
      "text/plain": [
       "<Figure size 432x576 with 2 Axes>"
      ]
     },
     "metadata": {
      "needs_background": "light"
     },
     "output_type": "display_data"
    }
   ],
   "source": [
    "fig = momi.DemographyPlot(model_inf_change_contemp, [\"CON\"],\n",
    "                          figsize=(6,8), linthreshy=150,\n",
    "                          major_yticks=yticks,)"
   ]
  },
  {
   "cell_type": "code",
   "execution_count": null,
   "metadata": {},
   "outputs": [],
   "source": []
  },
  {
   "cell_type": "code",
   "execution_count": 243,
   "metadata": {},
   "outputs": [],
   "source": [
    "#set model for inference - albatross +contemporary samples, constant pop size assumed!\n",
    "model_inf_constant_temporal =  momi.DemographicModel(N_e=NeAlb, gen_time=1, muts_per_gen=4.5e-8)"
   ]
  },
  {
   "cell_type": "code",
   "execution_count": 244,
   "metadata": {},
   "outputs": [],
   "source": [
    "#add data to model\n",
    "model_inf_constant_temporal.set_data(sfs)"
   ]
  },
  {
   "cell_type": "code",
   "execution_count": 245,
   "metadata": {},
   "outputs": [],
   "source": [
    "#define parameters to infer - model with size change and unknown time of decline\n",
    "model_inf_constant_temporal.add_size_param(\"n_constant\")"
   ]
  },
  {
   "cell_type": "code",
   "execution_count": 246,
   "metadata": {},
   "outputs": [],
   "source": [
    "model_inf_constant_temporal.add_leaf(\"ALB\",N=\"n_constant\",t=109)\n",
    "model_inf_constant_temporal.add_leaf(\"CON\",N=\"n_constant\")\n",
    "model_inf_constant_temporal.move_lineages(\"CON\",\"ALB\",t=110)"
   ]
  },
  {
   "cell_type": "code",
   "execution_count": 247,
   "metadata": {},
   "outputs": [
    {
     "data": {
      "text/plain": [
       "            fun: 0.09896964202300519\n",
       "            jac: array([2.36349797e-09])\n",
       "  kl_divergence: 0.09896964202300519\n",
       " log_likelihood: -1206178.8090165893\n",
       "        message: 'Local minimum reached (|pg| ~= 0)'\n",
       "           nfev: 7\n",
       "            nit: 3\n",
       "     parameters: ParamsDict({'n_constant': 9727.66742936103})\n",
       "         status: 0\n",
       "        success: True\n",
       "              x: array([9.18272942])"
      ]
     },
     "execution_count": 247,
     "metadata": {},
     "output_type": "execute_result"
    }
   ],
   "source": [
    "model_inf_constant_temporal.optimize(method=\"TNC\")"
   ]
  },
  {
   "cell_type": "code",
   "execution_count": 248,
   "metadata": {},
   "outputs": [
    {
     "data": {
      "text/plain": [
       "ParamsDict({'n_constant': 9727.66742936103})"
      ]
     },
     "execution_count": 248,
     "metadata": {},
     "output_type": "execute_result"
    }
   ],
   "source": [
    "model_inf_constant_temporal.get_params()"
   ]
  },
  {
   "cell_type": "code",
   "execution_count": 272,
   "metadata": {
    "scrolled": false
   },
   "outputs": [
    {
     "data": {
      "image/png": "[encoded data removed]",
      "text/plain": [
       "<Figure size 432x576 with 2 Axes>"
      ]
     },
     "metadata": {
      "needs_background": "light"
     },
     "output_type": "display_data"
    }
   ],
   "source": [
    "fig = momi.DemographyPlot(model_inf_constant_temporal, [\"ALB\",\"CON\"],\n",
    "                          figsize=(6,8), linthreshy=150,\n",
    "                          major_yticks=yticks,)"
   ]
  },
  {
   "cell_type": "code",
   "execution_count": null,
   "metadata": {},
   "outputs": [],
   "source": []
  },
  {
   "cell_type": "code",
   "execution_count": 250,
   "metadata": {},
   "outputs": [],
   "source": [
    "#set model for inference - albatross + contemporary samples, 2 different pop sizes assumed!\n",
    "model_inf_change_temporal =  momi.DemographicModel(N_e=NeAlb, gen_time=1, muts_per_gen=4.5e-8)"
   ]
  },
  {
   "cell_type": "code",
   "execution_count": 251,
   "metadata": {},
   "outputs": [],
   "source": [
    "#add data to model\n",
    "model_inf_change_temporal.set_data(sfs)"
   ]
  },
  {
   "cell_type": "code",
   "execution_count": 252,
   "metadata": {},
   "outputs": [],
   "source": [
    "#define parameters to infer - model with unknown time of decline\n",
    "model_inf_change_temporal.add_size_param(\"n_alb\")\n",
    "model_inf_change_temporal.add_size_param(\"n_bot\")\n",
    "model_inf_change_temporal.add_time_param(\"t_bot\",upper=1e2)"
   ]
  },
  {
   "cell_type": "code",
   "execution_count": 253,
   "metadata": {},
   "outputs": [],
   "source": [
    "model_inf_change_temporal.add_leaf(\"CON\",N=\"n_bot\")\n",
    "model_inf_change_temporal.add_leaf(\"ALB\",N=\"n_alb\",t=109)\n",
    "model_inf_change_temporal.move_lineages(\"CON\",\"ALB\",t=110)\n",
    "model_inf_change_temporal.set_size(\"CON\", N=\"n_alb\", t=\"t_bot\")"
   ]
  },
  {
   "cell_type": "code",
   "execution_count": 254,
   "metadata": {},
   "outputs": [
    {
     "data": {
      "text/plain": [
       "            fun: 0.098895905859323\n",
       "            jac: array([-3.65549469e-06, -6.20856872e-07,  1.74578651e-07])\n",
       "  kl_divergence: 0.098895905859323\n",
       " log_likelihood: -1206165.2859516423\n",
       "        message: 'Converged (|f_n-f_(n-1)| ~= 0)'\n",
       "           nfev: 17\n",
       "            nit: 8\n",
       "     parameters: ParamsDict({'n_alb': 9860.026450536398, 'n_bot': 9335.267910297844, 't_bot': 92.47995152181889})\n",
       "         status: 1\n",
       "        success: True\n",
       "              x: array([9.19624413, 9.14155476, 2.5094193 ])"
      ]
     },
     "execution_count": 254,
     "metadata": {},
     "output_type": "execute_result"
    }
   ],
   "source": [
    "model_inf_change_temporal.optimize(method=\"TNC\")"
   ]
  },
  {
   "cell_type": "code",
   "execution_count": 255,
   "metadata": {},
   "outputs": [
    {
     "data": {
      "text/plain": [
       "ParamsDict({'n_alb': 9860.026450536398, 'n_bot': 9335.267910297844, 't_bot': 92.47995152181889})"
      ]
     },
     "execution_count": 255,
     "metadata": {},
     "output_type": "execute_result"
    }
   ],
   "source": [
    "model_inf_change_temporal.get_params()"
   ]
  },
  {
   "cell_type": "code",
   "execution_count": 273,
   "metadata": {
    "scrolled": false
   },
   "outputs": [
    {
     "data": {
      "image/png": "[encoded data removed]",
      "text/plain": [
       "<Figure size 432x576 with 2 Axes>"
      ]
     },
     "metadata": {
      "needs_background": "light"
     },
     "output_type": "display_data"
    }
   ],
   "source": [
    "fig = momi.DemographyPlot(model_inf_change_temporal, [\"ALB\",\"CON\"],\n",
    "                          figsize=(6,8), linthreshy=150,\n",
    "                          major_yticks=yticks,)"
   ]
  },
  {
   "cell_type": "code",
   "execution_count": 257,
   "metadata": {},
   "outputs": [
    {
     "name": "stdout",
     "output_type": "stream",
     "text": [
      "Fitting 1-th bootstrap out of 10 for constant + contemp\n",
      "Fitting 1-th bootstrap out of 10 for change + contemp\n",
      "Fitting 1-th bootstrap out of 10 for constant + temporal\n",
      "Fitting 1-th bootstrap out of 10 for change + temporal\n",
      "Fitting 2-th bootstrap out of 10 for constant + contemp\n",
      "Fitting 2-th bootstrap out of 10 for change + contemp\n",
      "Fitting 2-th bootstrap out of 10 for constant + temporal\n",
      "Fitting 2-th bootstrap out of 10 for change + temporal\n",
      "Fitting 3-th bootstrap out of 10 for constant + contemp\n",
      "Fitting 3-th bootstrap out of 10 for change + contemp\n",
      "Fitting 3-th bootstrap out of 10 for constant + temporal\n",
      "Fitting 3-th bootstrap out of 10 for change + temporal\n",
      "Fitting 4-th bootstrap out of 10 for constant + contemp\n",
      "Fitting 4-th bootstrap out of 10 for change + contemp\n",
      "Fitting 4-th bootstrap out of 10 for constant + temporal\n",
      "Fitting 4-th bootstrap out of 10 for change + temporal\n",
      "Fitting 5-th bootstrap out of 10 for constant + contemp\n",
      "Fitting 5-th bootstrap out of 10 for change + contemp\n",
      "Fitting 5-th bootstrap out of 10 for constant + temporal\n",
      "Fitting 5-th bootstrap out of 10 for change + temporal\n",
      "Fitting 6-th bootstrap out of 10 for constant + contemp\n",
      "Fitting 6-th bootstrap out of 10 for change + contemp\n",
      "Fitting 6-th bootstrap out of 10 for constant + temporal\n",
      "Fitting 6-th bootstrap out of 10 for change + temporal\n",
      "Fitting 7-th bootstrap out of 10 for constant + contemp\n",
      "Fitting 7-th bootstrap out of 10 for change + contemp\n",
      "Fitting 7-th bootstrap out of 10 for constant + temporal\n",
      "Fitting 7-th bootstrap out of 10 for change + temporal\n",
      "Fitting 8-th bootstrap out of 10 for constant + contemp\n",
      "Fitting 8-th bootstrap out of 10 for change + contemp\n",
      "Fitting 8-th bootstrap out of 10 for constant + temporal\n",
      "Fitting 8-th bootstrap out of 10 for change + temporal\n",
      "Fitting 9-th bootstrap out of 10 for constant + contemp\n",
      "Fitting 9-th bootstrap out of 10 for change + contemp\n",
      "Fitting 9-th bootstrap out of 10 for constant + temporal\n",
      "Fitting 9-th bootstrap out of 10 for change + temporal\n",
      "Fitting 10-th bootstrap out of 10 for constant + contemp\n",
      "Fitting 10-th bootstrap out of 10 for change + contemp\n",
      "Fitting 10-th bootstrap out of 10 for constant + temporal\n",
      "Fitting 10-th bootstrap out of 10 for change + temporal\n"
     ]
    }
   ],
   "source": [
    "#bootstrapping\n",
    "n_bootstraps = 10\n",
    "# make copies of the original models to avoid changing them\n",
    "model_inf_cons_cont_copy = model_inf_constant_contemp.copy()\n",
    "model_inf_change_cont_copy = model_inf_change_contemp.copy()\n",
    "model_inf_cons_temp_copy = model_inf_constant_temporal.copy()\n",
    "model_inf_change_temp_copy = model_inf_change_temporal.copy()\n",
    "\n",
    "bootstrap_cons_cont = []\n",
    "bootstrap_change_cont = []\n",
    "bootstrap_cons_temp = []\n",
    "bootstrap_change_temp = []\n",
    "\n",
    "\n",
    "for i in range(n_bootstraps):\n",
    "\n",
    "    # resample the data\n",
    "    resampled_sfs = sfs.resample()\n",
    "\n",
    "    print(f\"Fitting {i+1}-th bootstrap out of {n_bootstraps} for constant + contemp\")\n",
    "\n",
    "    # tell model to use the new dataset\n",
    "    model_inf_cons_cont_copy.set_data(resampled_sfs)\n",
    "    # choose new random parameters for submodel, optimize\n",
    "    model_inf_cons_cont_copy.set_params(randomize=True)\n",
    "    model_inf_cons_cont_copy.optimize()\n",
    "    # append results\n",
    "    bootstrap_cons_cont.append(model_inf_cons_cont_copy.get_params())\n",
    "\n",
    "    print(f\"Fitting {i+1}-th bootstrap out of {n_bootstraps} for change + contemp\")\n",
    "\n",
    "    # tell model to use the new dataset\n",
    "    model_inf_change_cont_copy.set_data(resampled_sfs)\n",
    "    # choose new random parameters for submodel, optimize\n",
    "    model_inf_change_cont_copy.set_params(randomize=True)\n",
    "    model_inf_change_cont_copy.optimize()\n",
    "    # append results\n",
    "    bootstrap_change_cont.append(model_inf_change_cont_copy.get_params())\n",
    "\n",
    "    print(f\"Fitting {i+1}-th bootstrap out of {n_bootstraps} for constant + temporal\")\n",
    "\n",
    "    # tell model to use the new dataset\n",
    "    model_inf_cons_temp_copy.set_data(resampled_sfs)\n",
    "    # choose new random parameters for submodel, optimize\n",
    "    model_inf_cons_temp_copy.set_params(randomize=True)\n",
    "    model_inf_cons_temp_copy.optimize()\n",
    "    # append results\n",
    "    bootstrap_cons_temp.append(model_inf_cons_temp_copy.get_params())\n",
    "    \n",
    "    print(f\"Fitting {i+1}-th bootstrap out of {n_bootstraps} for change + temporal\")\n",
    "\n",
    "    # tell model to use the new dataset\n",
    "    model_inf_change_temp_copy.set_data(resampled_sfs)\n",
    "    # choose new random parameters for submodel, optimize\n",
    "    model_inf_change_temp_copy.set_params(randomize=True)\n",
    "    model_inf_change_temp_copy.optimize()\n",
    "    # append results\n",
    "    bootstrap_change_temp.append(model_inf_change_temp_copy.get_params())\n",
    "    "
   ]
  },
  {
   "cell_type": "code",
   "execution_count": 258,
   "metadata": {},
   "outputs": [
    {
     "data": {
      "text/plain": [
       "<matplotlib.legend.Legend at 0x7f909c78a650>"
      ]
     },
     "execution_count": 258,
     "metadata": {},
     "output_type": "execute_result"
    },
    {
     "data": {
      "image/png": "[encoded data removed]",
      "text/plain": [
       "<Figure size 432x576 with 2 Axes>"
      ]
     },
     "metadata": {
      "needs_background": "light"
     },
     "output_type": "display_data"
    }
   ],
   "source": [
    "# make canvas, but delay plotting the demography (draw=False)\n",
    "fig = momi.DemographyPlot(\n",
    "    model_inf_cons_cont_copy, [\"CON\"],\n",
    "    figsize=(6,8), linthreshy=150,\n",
    "    major_yticks=yticks,\n",
    "    draw=False)\n",
    "\n",
    "# plot bootstraps onto the canvas in transparency\n",
    "for params in bootstrap_cons_cont:\n",
    "    fig.add_bootstrap(\n",
    "        params,\n",
    "        # alpha=0: totally transparent. alpha=1: totally opaque\n",
    "        alpha=1/n_bootstraps)\n",
    "\n",
    "# now draw the inferred demography on top of the bootstraps\n",
    "fig.draw()\n",
    "fig.draw_N_legend(loc=\"upper left\")"
   ]
  },
  {
   "cell_type": "code",
   "execution_count": 260,
   "metadata": {},
   "outputs": [
    {
     "data": {
      "text/plain": [
       "<matplotlib.legend.Legend at 0x7f90a0b349d0>"
      ]
     },
     "execution_count": 260,
     "metadata": {},
     "output_type": "execute_result"
    },
    {
     "data": {
      "image/png": "[encoded data removed]",
      "text/plain": [
       "<Figure size 432x576 with 2 Axes>"
      ]
     },
     "metadata": {
      "needs_background": "light"
     },
     "output_type": "display_data"
    }
   ],
   "source": [
    "# make canvas, but delay plotting the demography (draw=False)\n",
    "fig = momi.DemographyPlot(\n",
    "    model_inf_change_cont_copy, [\"CON\"],\n",
    "    figsize=(6,8), linthreshy=150,\n",
    "    major_yticks=yticks,\n",
    "    draw=False)\n",
    "\n",
    "# plot bootstraps onto the canvas in transparency\n",
    "for params in bootstrap_change_cont:\n",
    "    fig.add_bootstrap(\n",
    "        params,\n",
    "        # alpha=0: totally transparent. alpha=1: totally opaque\n",
    "        alpha=1/n_bootstraps)\n",
    "\n",
    "# now draw the inferred demography on top of the bootstraps\n",
    "fig.draw()\n",
    "fig.draw_N_legend(loc=\"upper left\")"
   ]
  },
  {
   "cell_type": "code",
   "execution_count": 261,
   "metadata": {},
   "outputs": [
    {
     "data": {
      "text/plain": [
       "<matplotlib.legend.Legend at 0x7f909f1c9e90>"
      ]
     },
     "execution_count": 261,
     "metadata": {},
     "output_type": "execute_result"
    },
    {
     "data": {
      "image/png": "[encoded data removed]",
      "text/plain": [
       "<Figure size 432x576 with 2 Axes>"
      ]
     },
     "metadata": {
      "needs_background": "light"
     },
     "output_type": "display_data"
    }
   ],
   "source": [
    "# make canvas, but delay plotting the demography (draw=False)\n",
    "fig = momi.DemographyPlot(\n",
    "    model_inf_cons_temp_copy, [\"ALB\",\"CON\"],\n",
    "    figsize=(6,8), linthreshy=150,\n",
    "    major_yticks=yticks,\n",
    "    draw=False)\n",
    "\n",
    "# plot bootstraps onto the canvas in transparency\n",
    "for params in bootstrap_cons_temp:\n",
    "    fig.add_bootstrap(\n",
    "        params,\n",
    "        # alpha=0: totally transparent. alpha=1: totally opaque\n",
    "        alpha=1/n_bootstraps)\n",
    "\n",
    "# now draw the inferred demography on top of the bootstraps\n",
    "fig.draw()\n",
    "fig.draw_N_legend(loc=\"upper left\")"
   ]
  },
  {
   "cell_type": "code",
   "execution_count": 262,
   "metadata": {},
   "outputs": [
    {
     "data": {
      "text/plain": [
       "<matplotlib.legend.Legend at 0x7f909ba5e910>"
      ]
     },
     "execution_count": 262,
     "metadata": {},
     "output_type": "execute_result"
    },
    {
     "data": {
      "image/png": "[encoded data removed]",
      "text/plain": [
       "<Figure size 432x576 with 2 Axes>"
      ]
     },
     "metadata": {
      "needs_background": "light"
     },
     "output_type": "display_data"
    }
   ],
   "source": [
    "# make canvas, but delay plotting the demography (draw=False)\n",
    "fig = momi.DemographyPlot(\n",
    "    model_inf_change_temp_copy, [\"ALB\",\"CON\"],\n",
    "    figsize=(6,8), linthreshy=150,\n",
    "    major_yticks=yticks,\n",
    "    draw=False)\n",
    "\n",
    "# plot bootstraps onto the canvas in transparency\n",
    "for params in bootstrap_change_temp:\n",
    "    fig.add_bootstrap(\n",
    "        params,\n",
    "        # alpha=0: totally transparent. alpha=1: totally opaque\n",
    "        alpha=1/n_bootstraps)\n",
    "\n",
    "# now draw the inferred demography on top of the bootstraps\n",
    "fig.draw()\n",
    "fig.draw_N_legend(loc=\"upper left\")"
   ]
  },
  {
   "cell_type": "code",
   "execution_count": 285,
   "metadata": {
    "scrolled": true
   },
   "outputs": [
    {
     "data": {
      "text/plain": [
       "ParamsDict({'n_constant': 9886.351033099008})"
      ]
     },
     "execution_count": 285,
     "metadata": {},
     "output_type": "execute_result"
    }
   ],
   "source": [
    "f = open(\"momi_stable_datasets_102820/cons_cont_output.txt\", \"a\")\n",
    "f.write(\"estimate from SFS\"+\"\\n\")\n",
    "f.write(str(model_inf_constant_contemp.get_params())+\"\\n\")\n",
    "f.write(\"bootstraps\"+\"\\n\")\n",
    "f.write(str(bootstrap_cons_cont)+\"\\n\")\n",
    "f.close()\n",
    "#model_inf_constant_contemp.get_params()\n",
    "bootstrap_cons_cont"
   ]
  },
  {
   "cell_type": "code",
   "execution_count": 286,
   "metadata": {},
   "outputs": [
    {
     "data": {
      "text/plain": [
       "ParamsDict({'n_alb': 9887.148945312327, 'n_bot': 9631.448194279763, 't_bot': 62.52284600209978})"
      ]
     },
     "execution_count": 286,
     "metadata": {},
     "output_type": "execute_result"
    }
   ],
   "source": [
    "f = open(\"momi_stable_datasets_102820/change_cont_output.txt\", \"a\")\n",
    "f.write(\"estimate from SFS\"+\"\\n\")\n",
    "f.write(str(model_inf_change_contemp.get_params())+\"\\n\")\n",
    "f.write(\"bootstraps\"+\"\\n\")\n",
    "f.write(str(bootstrap_change_cont)+\"\\n\")\n",
    "f.close()\n",
    "#model_inf_change_contemp.get_params()\n",
    "bootstrap_change_cont"
   ]
  },
  {
   "cell_type": "code",
   "execution_count": 287,
   "metadata": {},
   "outputs": [
    {
     "data": {
      "text/plain": [
       "ParamsDict({'n_alb': 9887.148945312327, 'n_bot': 9631.448194279763, 't_bot': 62.52284600209978})"
      ]
     },
     "execution_count": 287,
     "metadata": {},
     "output_type": "execute_result"
    }
   ],
   "source": [
    "f = open(\"momi_stable_datasets_102820/cons_temp_output.txt\", \"a\")\n",
    "f.write(\"estimate from SFS\"+\"\\n\")\n",
    "f.write(str(model_inf_constant_temporal.get_params())+\"\\n\")\n",
    "f.write(\"bootstraps\"+\"\\n\")\n",
    "f.write(str(bootstrap_cons_temp)+\"\\n\")\n",
    "f.close()\n",
    "#model_inf_constant_temporal.get_params()\n",
    "bootstrap_cons_temp"
   ]
  },
  {
   "cell_type": "code",
   "execution_count": 288,
   "metadata": {
    "scrolled": true
   },
   "outputs": [
    {
     "data": {
      "text/plain": [
       "[ParamsDict({'n_alb': 9870.840374341178, 'n_bot': 7995.844362319047, 't_bot': 23.997208602907584}),\n",
       " ParamsDict({'n_alb': 9711.797730510007, 'n_bot': 8728.749703873493, 't_bot': 66.91664553713228}),\n",
       " ParamsDict({'n_alb': 9977.03541605949, 'n_bot': 8619.885951852044, 't_bot': 96.37429061838266}),\n",
       " ParamsDict({'n_alb': 9888.755777811857, 'n_bot': 9150.634954342273, 't_bot': 81.60041688832817}),\n",
       " ParamsDict({'n_alb': 9972.286870679933, 'n_bot': 8894.221496532622, 't_bot': 41.184833800850974}),\n",
       " ParamsDict({'n_alb': 9864.99228146229, 'n_bot': 7103.5459922472, 't_bot': 20.88399994074175}),\n",
       " ParamsDict({'n_alb': 9877.943208288913, 'n_bot': 10397.221741560119, 't_bot': 96.65529693056287}),\n",
       " ParamsDict({'n_alb': 9815.011127257347, 'n_bot': 3824.207730656881, 't_bot': 3.753284443323976}),\n",
       " ParamsDict({'n_alb': 9894.163199678764, 'n_bot': 8883.331591253778, 't_bot': 67.60349824570753}),\n",
       " ParamsDict({'n_alb': 9785.858795692093, 'n_bot': 8609.05518359407, 't_bot': 45.77331103893577})]"
      ]
     },
     "execution_count": 288,
     "metadata": {},
     "output_type": "execute_result"
    }
   ],
   "source": [
    "f = open(\"momi_stable_datasets_102820/change_temp_output.txt\", \"a\")\n",
    "f.write(\"estimate from SFS\"+\"\\n\")\n",
    "f.write(str(model_inf_change_temporal.get_params())+\"\\n\")\n",
    "f.write(\"bootstraps\"+\"\\n\")\n",
    "f.write(str(bootstrap_change_temp)+\"\\n\")\n",
    "f.close()\n",
    "#model_inf_change_temporal.get_params()\n",
    "bootstrap_change_temp"
   ]
  },
  {
   "cell_type": "code",
   "execution_count": 289,
   "metadata": {},
   "outputs": [],
   "source": [
    "#here is a simple bottleneck model to simulate.\n",
    "#Note since we are moving backwards we set Alb to NeAlb, Con to NeBot, then specify a pop *growth* at tdecline \n",
    "\n",
    "NeAlb=1e4\n",
    "NeBot=1e2\n",
    "tdecline=60\n",
    "model_bot = momi.DemographicModel(N_e=NeAlb, gen_time=1,\n",
    "                              muts_per_gen=4.5e-8)\n",
    "model_bot.add_leaf(\"ALB\",N=NeAlb,t=109)\n",
    "model_bot.add_leaf(\"CON\",N=NeBot)\n",
    "model_bot.move_lineages(\"CON\",\"ALB\",t=110)\n",
    "model_bot.set_size(\"CON\", N=NeAlb, t=tdecline)"
   ]
  },
  {
   "cell_type": "code",
   "execution_count": 290,
   "metadata": {},
   "outputs": [
    {
     "data": {
      "image/png": "[encoded data removed]",
      "text/plain": [
       "<Figure size 432x576 with 2 Axes>"
      ]
     },
     "metadata": {
      "needs_background": "light"
     },
     "output_type": "display_data"
    }
   ],
   "source": [
    "%matplotlib inline\n",
    "\n",
    "yticks = [20, 40, 60, 80, 100, 120, 1000, 10000, 100000]\n",
    "\n",
    "fig = momi.DemographyPlot(\n",
    "    model_bot, [\"ALB\", \"CON\"],\n",
    "    figsize=(6,8),\n",
    "    major_yticks=yticks,\n",
    "    linthreshy=150)"
   ]
  },
  {
   "cell_type": "code",
   "execution_count": 291,
   "metadata": {},
   "outputs": [],
   "source": [
    "recoms_per_gen = 1.25e-8\n",
    "bases_per_locus = int(6e5)\n",
    "n_loci = 25\n",
    "ploidy = 2\n",
    "\n",
    "# n_alleles per population (n_individuals = n_alleles / ploidy)\n",
    "sampled_n_dict = {\"ALB\":200, \"CON\":200}\n",
    "\n",
    "# create data directory if it doesn't exist\n",
    "!mkdir -p momi_bot_datasets_102820/\n",
    "\n",
    "# simulate 20 \"chromosomes\", saving each in a separate vcf file\n",
    "for chrom in range(1, n_loci+1):\n",
    "      model_bot.simulate_vcf(\n",
    "            f\"momi_bot_datasets_102820/{chrom}\",\n",
    "            recoms_per_gen=recoms_per_gen,\n",
    "            length=bases_per_locus,\n",
    "            chrom_name=f\"chr{chrom}\",\n",
    "            ploidy=ploidy,\n",
    "            random_seed=1234+chrom,\n",
    "            sampled_n_dict=sampled_n_dict,\n",
    "            force=True)\n"
   ]
  },
  {
   "cell_type": "code",
   "execution_count": 292,
   "metadata": {},
   "outputs": [
    {
     "name": "stdout",
     "output_type": "stream",
     "text": [
      "ALB_0\tALB\r\n",
      "ALB_1\tALB\r\n",
      "ALB_2\tALB\r\n",
      "ALB_3\tALB\r\n",
      "ALB_4\tALB\r\n",
      "ALB_5\tALB\r\n",
      "ALB_6\tALB\r\n",
      "ALB_7\tALB\r\n",
      "ALB_8\tALB\r\n",
      "ALB_9\tALB\r\n",
      "ALB_10\tALB\r\n",
      "ALB_11\tALB\r\n",
      "ALB_12\tALB\r\n",
      "ALB_13\tALB\r\n",
      "ALB_14\tALB\r\n",
      "ALB_15\tALB\r\n",
      "ALB_16\tALB\r\n",
      "ALB_17\tALB\r\n",
      "ALB_18\tALB\r\n",
      "ALB_19\tALB\r\n",
      "ALB_20\tALB\r\n",
      "ALB_21\tALB\r\n",
      "ALB_22\tALB\r\n",
      "ALB_23\tALB\r\n",
      "ALB_24\tALB\r\n",
      "ALB_25\tALB\r\n",
      "ALB_26\tALB\r\n",
      "ALB_27\tALB\r\n",
      "ALB_28\tALB\r\n",
      "ALB_29\tALB\r\n",
      "ALB_30\tALB\r\n",
      "ALB_31\tALB\r\n",
      "ALB_32\tALB\r\n",
      "ALB_33\tALB\r\n",
      "ALB_34\tALB\r\n",
      "ALB_35\tALB\r\n",
      "ALB_36\tALB\r\n",
      "ALB_37\tALB\r\n",
      "ALB_38\tALB\r\n",
      "ALB_39\tALB\r\n",
      "ALB_40\tALB\r\n",
      "ALB_41\tALB\r\n",
      "ALB_42\tALB\r\n",
      "ALB_43\tALB\r\n",
      "ALB_44\tALB\r\n",
      "ALB_45\tALB\r\n",
      "ALB_46\tALB\r\n",
      "ALB_47\tALB\r\n",
      "ALB_48\tALB\r\n",
      "ALB_49\tALB\r\n",
      "ALB_50\tALB\r\n",
      "ALB_51\tALB\r\n",
      "ALB_52\tALB\r\n",
      "ALB_53\tALB\r\n",
      "ALB_54\tALB\r\n",
      "ALB_55\tALB\r\n",
      "ALB_56\tALB\r\n",
      "ALB_57\tALB\r\n",
      "ALB_58\tALB\r\n",
      "ALB_59\tALB\r\n",
      "ALB_60\tALB\r\n",
      "ALB_61\tALB\r\n",
      "ALB_62\tALB\r\n",
      "ALB_63\tALB\r\n",
      "ALB_64\tALB\r\n",
      "ALB_65\tALB\r\n",
      "ALB_66\tALB\r\n",
      "ALB_67\tALB\r\n",
      "ALB_68\tALB\r\n",
      "ALB_69\tALB\r\n",
      "ALB_70\tALB\r\n",
      "ALB_71\tALB\r\n",
      "ALB_72\tALB\r\n",
      "ALB_73\tALB\r\n",
      "ALB_74\tALB\r\n",
      "ALB_75\tALB\r\n",
      "ALB_76\tALB\r\n",
      "ALB_77\tALB\r\n",
      "ALB_78\tALB\r\n",
      "ALB_79\tALB\r\n",
      "ALB_80\tALB\r\n",
      "ALB_81\tALB\r\n",
      "ALB_82\tALB\r\n",
      "ALB_83\tALB\r\n",
      "ALB_84\tALB\r\n",
      "ALB_85\tALB\r\n",
      "ALB_86\tALB\r\n",
      "ALB_87\tALB\r\n",
      "ALB_88\tALB\r\n",
      "ALB_89\tALB\r\n",
      "ALB_90\tALB\r\n",
      "ALB_91\tALB\r\n",
      "ALB_92\tALB\r\n",
      "ALB_93\tALB\r\n",
      "ALB_94\tALB\r\n",
      "ALB_95\tALB\r\n",
      "ALB_96\tALB\r\n",
      "ALB_97\tALB\r\n",
      "ALB_98\tALB\r\n",
      "ALB_99\tALB\r\n",
      "CON_0\tCON\r\n",
      "CON_1\tCON\r\n",
      "CON_2\tCON\r\n",
      "CON_3\tCON\r\n",
      "CON_4\tCON\r\n",
      "CON_5\tCON\r\n",
      "CON_6\tCON\r\n",
      "CON_7\tCON\r\n",
      "CON_8\tCON\r\n",
      "CON_9\tCON\r\n",
      "CON_10\tCON\r\n",
      "CON_11\tCON\r\n",
      "CON_12\tCON\r\n",
      "CON_13\tCON\r\n",
      "CON_14\tCON\r\n",
      "CON_15\tCON\r\n",
      "CON_16\tCON\r\n",
      "CON_17\tCON\r\n",
      "CON_18\tCON\r\n",
      "CON_19\tCON\r\n",
      "CON_20\tCON\r\n",
      "CON_21\tCON\r\n",
      "CON_22\tCON\r\n",
      "CON_23\tCON\r\n",
      "CON_24\tCON\r\n",
      "CON_25\tCON\r\n",
      "CON_26\tCON\r\n",
      "CON_27\tCON\r\n",
      "CON_28\tCON\r\n",
      "CON_29\tCON\r\n",
      "CON_30\tCON\r\n",
      "CON_31\tCON\r\n",
      "CON_32\tCON\r\n",
      "CON_33\tCON\r\n",
      "CON_34\tCON\r\n",
      "CON_35\tCON\r\n",
      "CON_36\tCON\r\n",
      "CON_37\tCON\r\n",
      "CON_38\tCON\r\n",
      "CON_39\tCON\r\n",
      "CON_40\tCON\r\n",
      "CON_41\tCON\r\n",
      "CON_42\tCON\r\n",
      "CON_43\tCON\r\n",
      "CON_44\tCON\r\n",
      "CON_45\tCON\r\n",
      "CON_46\tCON\r\n",
      "CON_47\tCON\r\n",
      "CON_48\tCON\r\n",
      "CON_49\tCON\r\n",
      "CON_50\tCON\r\n",
      "CON_51\tCON\r\n",
      "CON_52\tCON\r\n",
      "CON_53\tCON\r\n",
      "CON_54\tCON\r\n",
      "CON_55\tCON\r\n",
      "CON_56\tCON\r\n",
      "CON_57\tCON\r\n",
      "CON_58\tCON\r\n",
      "CON_59\tCON\r\n",
      "CON_60\tCON\r\n",
      "CON_61\tCON\r\n",
      "CON_62\tCON\r\n",
      "CON_63\tCON\r\n",
      "CON_64\tCON\r\n",
      "CON_65\tCON\r\n",
      "CON_66\tCON\r\n",
      "CON_67\tCON\r\n",
      "CON_68\tCON\r\n",
      "CON_69\tCON\r\n",
      "CON_70\tCON\r\n",
      "CON_71\tCON\r\n",
      "CON_72\tCON\r\n",
      "CON_73\tCON\r\n",
      "CON_74\tCON\r\n",
      "CON_75\tCON\r\n",
      "CON_76\tCON\r\n",
      "CON_77\tCON\r\n",
      "CON_78\tCON\r\n",
      "CON_79\tCON\r\n",
      "CON_80\tCON\r\n",
      "CON_81\tCON\r\n",
      "CON_82\tCON\r\n",
      "CON_83\tCON\r\n",
      "CON_84\tCON\r\n",
      "CON_85\tCON\r\n",
      "CON_86\tCON\r\n",
      "CON_87\tCON\r\n",
      "CON_88\tCON\r\n",
      "CON_89\tCON\r\n",
      "CON_90\tCON\r\n",
      "CON_91\tCON\r\n",
      "CON_92\tCON\r\n",
      "CON_93\tCON\r\n",
      "CON_94\tCON\r\n",
      "CON_95\tCON\r\n",
      "CON_96\tCON\r\n",
      "CON_97\tCON\r\n",
      "CON_98\tCON\r\n",
      "CON_99\tCON\r\n"
     ]
    }
   ],
   "source": [
    "# need a dict mapping samples to populations\n",
    "ind2pop = {}\n",
    "for pop, n in sampled_n_dict.items():\n",
    "    for i in range(int(n / ploidy)):\n",
    "        # in the vcf, samples are named like YRI_0, YRI_1, CHB_0, etc\n",
    "        ind2pop[\"{}_{}\".format(pop, i)] = pop\n",
    "\n",
    "with open(\"momi_bot_datasets_102820/ind2pop.txt\", \"w\") as f:\n",
    "    for i, p in ind2pop.items():\n",
    "        print(i, p, sep=\"\\t\", file=f)\n",
    "\n",
    "!cat momi_stable_datasets_102820/ind2pop.txt"
   ]
  },
  {
   "cell_type": "code",
   "execution_count": 293,
   "metadata": {},
   "outputs": [],
   "source": [
    "# can't comment in commands with %%sh so I will explain these next two steps here\n",
    "# first compute allele counts with momi.read_vcf\n",
    "# usage: python -m momi.read_vcf $VCF $IND2POP $OUTFILE --bed $BED:\n",
    "# then extract combined SFS, split into 100 blocks for jackknifing / bootstrap\n",
    "# format: python -m momi.extract_sfs $OUTFILE $NBLOCKS $COUNTS..."
   ]
  },
  {
   "cell_type": "code",
   "execution_count": 294,
   "metadata": {},
   "outputs": [],
   "source": [
    "%%sh\n",
    "for chrom in `seq 1 25`;\n",
    "do\n",
    "    python -m momi.read_vcf \\\n",
    "           momi_bot_datasets_102820/$chrom.vcf.gz momi_bot_datasets_102820/ind2pop.txt \\\n",
    "           momi_bot_datasets_102820/$chrom.snpAlleleCounts.gz \\\n",
    "           --bed momi_bot_datasets_102820/$chrom.bed\n",
    "done"
   ]
  },
  {
   "cell_type": "code",
   "execution_count": 295,
   "metadata": {},
   "outputs": [],
   "source": [
    "%%sh\n",
    "python -m momi.extract_sfs momi_bot_datasets_102820/sfs.gz 100 momi_bot_datasets_102820/*.snpAlleleCounts.gz"
   ]
  },
  {
   "cell_type": "code",
   "execution_count": 296,
   "metadata": {},
   "outputs": [],
   "source": [
    "# read sfs into python!\n",
    "sfs = momi.Sfs.load(\"momi_bot_datasets_102820/sfs.gz\")"
   ]
  },
  {
   "cell_type": "code",
   "execution_count": 297,
   "metadata": {},
   "outputs": [],
   "source": [
    "#set model for inference - constant pop size, contemporary samples only!\n",
    "model_inf_constant_contemp =  momi.DemographicModel(N_e=NeAlb, gen_time=1, muts_per_gen=4.5e-8)"
   ]
  },
  {
   "cell_type": "code",
   "execution_count": 298,
   "metadata": {},
   "outputs": [],
   "source": [
    "#add data to model\n",
    "model_inf_constant_contemp.set_data(sfs)"
   ]
  },
  {
   "cell_type": "code",
   "execution_count": 299,
   "metadata": {},
   "outputs": [],
   "source": [
    "#define parameters to infer\n",
    "model_inf_constant_contemp.add_size_param(\"n_constant\")"
   ]
  },
  {
   "cell_type": "code",
   "execution_count": 300,
   "metadata": {},
   "outputs": [],
   "source": [
    "model_inf_constant_contemp.add_leaf(\"CON\",N=\"n_constant\")"
   ]
  },
  {
   "cell_type": "code",
   "execution_count": 301,
   "metadata": {
    "scrolled": true
   },
   "outputs": [
    {
     "data": {
      "text/plain": [
       "            fun: 0.4652528529273088\n",
       "            jac: array([5.01338585e-09])\n",
       "  kl_divergence: 0.4652528529273088\n",
       " log_likelihood: -350541.451490293\n",
       "        message: 'Converged (|f_n-f_(n-1)| ~= 0)'\n",
       "           nfev: 9\n",
       "            nit: 4\n",
       "     parameters: ParamsDict({'n_constant': 7292.135591245885})\n",
       "         status: 1\n",
       "        success: True\n",
       "              x: array([8.89455173])"
      ]
     },
     "execution_count": 301,
     "metadata": {},
     "output_type": "execute_result"
    }
   ],
   "source": [
    "model_inf_constant_contemp.optimize(method=\"TNC\")"
   ]
  },
  {
   "cell_type": "code",
   "execution_count": 302,
   "metadata": {},
   "outputs": [
    {
     "data": {
      "text/plain": [
       "ParamsDict({'n_constant': 7292.135591245885})"
      ]
     },
     "execution_count": 302,
     "metadata": {},
     "output_type": "execute_result"
    }
   ],
   "source": [
    "model_inf_constant_contemp.get_params()"
   ]
  },
  {
   "cell_type": "code",
   "execution_count": 303,
   "metadata": {
    "scrolled": true
   },
   "outputs": [
    {
     "name": "stderr",
     "output_type": "stream",
     "text": [
      "/Users/nerdbrained/anaconda2/envs/my-momi-env/lib/python3.7/site-packages/momi/demo_plotter.py:69: MatplotlibDeprecationWarning: The 'linthreshy' parameter of __init__() has been renamed 'linthresh' since Matplotlib 3.3; support for the old name will be dropped two minor releases later.\n",
      "  self.ax.set_yscale('symlog', linthreshy=linthreshy)\n"
     ]
    },
    {
     "data": {
      "image/png": "[encoded data removed]",
      "text/plain": [
       "<Figure size 432x576 with 2 Axes>"
      ]
     },
     "metadata": {
      "needs_background": "light"
     },
     "output_type": "display_data"
    }
   ],
   "source": [
    "fig = momi.DemographyPlot(model_inf_constant_contemp, [\"CON\"],\n",
    "                          figsize=(6,8), linthreshy=150,\n",
    "                          major_yticks=yticks,)"
   ]
  },
  {
   "cell_type": "code",
   "execution_count": null,
   "metadata": {},
   "outputs": [],
   "source": []
  },
  {
   "cell_type": "code",
   "execution_count": 304,
   "metadata": {},
   "outputs": [],
   "source": [
    "#set model for inference - contemporary samples, 2 different pop sizes assumed!\n",
    "model_inf_change_contemp =  momi.DemographicModel(N_e=NeAlb, gen_time=1, muts_per_gen=4.5e-8)"
   ]
  },
  {
   "cell_type": "code",
   "execution_count": 305,
   "metadata": {},
   "outputs": [],
   "source": [
    "#add data to model\n",
    "model_inf_change_contemp.set_data(sfs)"
   ]
  },
  {
   "cell_type": "code",
   "execution_count": 306,
   "metadata": {},
   "outputs": [],
   "source": [
    "#define parameters to infer - model with size change and unknown time of decline\n",
    "model_inf_change_contemp.add_size_param(\"n_alb\")\n",
    "model_inf_change_contemp.add_size_param(\"n_bot\")\n",
    "model_inf_change_contemp.add_time_param(\"t_bot\",upper=1e2)"
   ]
  },
  {
   "cell_type": "code",
   "execution_count": 307,
   "metadata": {},
   "outputs": [],
   "source": [
    "model_inf_change_contemp.add_leaf(\"CON\",N=\"n_bot\")\n",
    "model_inf_change_contemp.set_size(\"CON\", N=\"n_alb\", t=\"t_bot\")"
   ]
  },
  {
   "cell_type": "code",
   "execution_count": 308,
   "metadata": {},
   "outputs": [
    {
     "data": {
      "text/plain": [
       "            fun: 0.08041538250767509\n",
       "            jac: array([-1.26466030e-07,  3.25624803e-05, -8.01479760e-07])\n",
       "  kl_divergence: 0.08041538250767509\n",
       " log_likelihood: -326172.00351344014\n",
       "        message: 'Converged (|f_n-f_(n-1)| ~= 0)'\n",
       "           nfev: 53\n",
       "            nit: 20\n",
       "     parameters: ParamsDict({'n_alb': 9973.900597265398, 'n_bot': 152.58725379154401, 't_bot': 99.96989783028589})\n",
       "         status: 1\n",
       "        success: True\n",
       "              x: array([9.20772702, 5.02773659, 8.10802715])"
      ]
     },
     "execution_count": 308,
     "metadata": {},
     "output_type": "execute_result"
    }
   ],
   "source": [
    "model_inf_change_contemp.optimize(method=\"TNC\")"
   ]
  },
  {
   "cell_type": "code",
   "execution_count": 309,
   "metadata": {},
   "outputs": [
    {
     "data": {
      "text/plain": [
       "ParamsDict({'n_alb': 9973.900597265398, 'n_bot': 152.58725379154401, 't_bot': 99.96989783028589})"
      ]
     },
     "execution_count": 309,
     "metadata": {},
     "output_type": "execute_result"
    }
   ],
   "source": [
    "model_inf_change_contemp.get_params()"
   ]
  },
  {
   "cell_type": "code",
   "execution_count": 310,
   "metadata": {
    "scrolled": false
   },
   "outputs": [
    {
     "data": {
      "image/png": "[encoded data removed]",
      "text/plain": [
       "<Figure size 432x576 with 2 Axes>"
      ]
     },
     "metadata": {
      "needs_background": "light"
     },
     "output_type": "display_data"
    }
   ],
   "source": [
    "fig = momi.DemographyPlot(model_inf_change_contemp, [\"CON\"],\n",
    "                          figsize=(6,8), linthreshy=150,\n",
    "                          major_yticks=yticks,)"
   ]
  },
  {
   "cell_type": "code",
   "execution_count": null,
   "metadata": {},
   "outputs": [],
   "source": []
  },
  {
   "cell_type": "code",
   "execution_count": 311,
   "metadata": {},
   "outputs": [],
   "source": [
    "#set model for inference - albatross +contemporary samples, constant pop size assumed!\n",
    "model_inf_constant_temporal =  momi.DemographicModel(N_e=NeAlb, gen_time=1, muts_per_gen=4.5e-8)"
   ]
  },
  {
   "cell_type": "code",
   "execution_count": 312,
   "metadata": {},
   "outputs": [],
   "source": [
    "#add data to model\n",
    "model_inf_constant_temporal.set_data(sfs)"
   ]
  },
  {
   "cell_type": "code",
   "execution_count": 313,
   "metadata": {},
   "outputs": [],
   "source": [
    "#define parameters to infer - model with size change and unknown time of decline\n",
    "model_inf_constant_temporal.add_size_param(\"n_constant\")"
   ]
  },
  {
   "cell_type": "code",
   "execution_count": 314,
   "metadata": {},
   "outputs": [],
   "source": [
    "model_inf_constant_temporal.add_leaf(\"ALB\",N=\"n_constant\",t=109)\n",
    "model_inf_constant_temporal.add_leaf(\"CON\",N=\"n_constant\")\n",
    "model_inf_constant_temporal.move_lineages(\"CON\",\"ALB\",t=110)"
   ]
  },
  {
   "cell_type": "code",
   "execution_count": 315,
   "metadata": {},
   "outputs": [
    {
     "data": {
      "text/plain": [
       "            fun: 1.110087865314606\n",
       "            jac: array([-5.83287195e-15])\n",
       "  kl_divergence: 1.110087865314606\n",
       " log_likelihood: -1165815.6511147486\n",
       "        message: 'Converged (|f_n-f_(n-1)| ~= 0)'\n",
       "           nfev: 16\n",
       "            nit: 5\n",
       "     parameters: ParamsDict({'n_constant': 274.4834082457961})\n",
       "         status: 1\n",
       "        success: True\n",
       "              x: array([5.61489082])"
      ]
     },
     "execution_count": 315,
     "metadata": {},
     "output_type": "execute_result"
    }
   ],
   "source": [
    "model_inf_constant_temporal.optimize(method=\"TNC\")"
   ]
  },
  {
   "cell_type": "code",
   "execution_count": 316,
   "metadata": {},
   "outputs": [
    {
     "data": {
      "text/plain": [
       "ParamsDict({'n_constant': 274.4834082457961})"
      ]
     },
     "execution_count": 316,
     "metadata": {},
     "output_type": "execute_result"
    }
   ],
   "source": [
    "model_inf_constant_temporal.get_params()"
   ]
  },
  {
   "cell_type": "code",
   "execution_count": 317,
   "metadata": {
    "scrolled": false
   },
   "outputs": [
    {
     "data": {
      "image/png": "[encoded data removed]",
      "text/plain": [
       "<Figure size 432x576 with 2 Axes>"
      ]
     },
     "metadata": {
      "needs_background": "light"
     },
     "output_type": "display_data"
    }
   ],
   "source": [
    "fig = momi.DemographyPlot(model_inf_constant_temporal, [\"ALB\",\"CON\"],\n",
    "                          figsize=(6,8), linthreshy=150,\n",
    "                          major_yticks=yticks,)"
   ]
  },
  {
   "cell_type": "code",
   "execution_count": null,
   "metadata": {},
   "outputs": [],
   "source": []
  },
  {
   "cell_type": "code",
   "execution_count": 318,
   "metadata": {},
   "outputs": [],
   "source": [
    "#set model for inference - albatross + contemporary samples, 2 different pop sizes assumed!\n",
    "model_inf_change_temporal =  momi.DemographicModel(N_e=NeAlb, gen_time=1, muts_per_gen=4.5e-8)"
   ]
  },
  {
   "cell_type": "code",
   "execution_count": 319,
   "metadata": {},
   "outputs": [],
   "source": [
    "#add data to model\n",
    "model_inf_change_temporal.set_data(sfs)"
   ]
  },
  {
   "cell_type": "code",
   "execution_count": 320,
   "metadata": {},
   "outputs": [],
   "source": [
    "#define parameters to infer - model with unknown time of decline\n",
    "model_inf_change_temporal.add_size_param(\"n_alb\")\n",
    "model_inf_change_temporal.add_size_param(\"n_bot\")\n",
    "model_inf_change_temporal.add_time_param(\"t_bot\",upper=1e2)"
   ]
  },
  {
   "cell_type": "code",
   "execution_count": 321,
   "metadata": {},
   "outputs": [],
   "source": [
    "model_inf_change_temporal.add_leaf(\"CON\",N=\"n_bot\")\n",
    "model_inf_change_temporal.add_leaf(\"ALB\",N=\"n_alb\",t=109)\n",
    "model_inf_change_temporal.move_lineages(\"CON\",\"ALB\",t=110)\n",
    "model_inf_change_temporal.set_size(\"CON\", N=\"n_alb\", t=\"t_bot\")"
   ]
  },
  {
   "cell_type": "code",
   "execution_count": 322,
   "metadata": {},
   "outputs": [
    {
     "data": {
      "text/plain": [
       "            fun: 0.3209317026537949\n",
       "            jac: array([ 4.94734650e-08, -1.89151117e-05, -3.45957846e-05])\n",
       "  kl_divergence: 0.3209317026537949\n",
       " log_likelihood: -1039464.6470672888\n",
       "        message: 'Converged (|f_n-f_(n-1)| ~= 0)'\n",
       "           nfev: 96\n",
       "            nit: 24\n",
       "     parameters: ParamsDict({'n_alb': 9998.026873654464, 'n_bot': 105.52489853949308, 't_bot': 67.76310948601501})\n",
       "         status: 1\n",
       "        success: True\n",
       "              x: array([9.21014304, 4.65894693, 0.74290647])"
      ]
     },
     "execution_count": 322,
     "metadata": {},
     "output_type": "execute_result"
    }
   ],
   "source": [
    "model_inf_change_temporal.optimize(method=\"TNC\")"
   ]
  },
  {
   "cell_type": "code",
   "execution_count": 323,
   "metadata": {},
   "outputs": [
    {
     "data": {
      "text/plain": [
       "ParamsDict({'n_alb': 9998.026873654464, 'n_bot': 105.52489853949308, 't_bot': 67.76310948601501})"
      ]
     },
     "execution_count": 323,
     "metadata": {},
     "output_type": "execute_result"
    }
   ],
   "source": [
    "model_inf_change_temporal.get_params()"
   ]
  },
  {
   "cell_type": "code",
   "execution_count": 324,
   "metadata": {
    "scrolled": false
   },
   "outputs": [
    {
     "data": {
      "image/png": "[encoded data removed]",
      "text/plain": [
       "<Figure size 432x576 with 2 Axes>"
      ]
     },
     "metadata": {
      "needs_background": "light"
     },
     "output_type": "display_data"
    }
   ],
   "source": [
    "fig = momi.DemographyPlot(model_inf_change_temporal, [\"ALB\",\"CON\"],\n",
    "                          figsize=(6,8), linthreshy=150,\n",
    "                          major_yticks=yticks,)"
   ]
  },
  {
   "cell_type": "code",
   "execution_count": 325,
   "metadata": {},
   "outputs": [
    {
     "name": "stdout",
     "output_type": "stream",
     "text": [
      "Fitting 1-th bootstrap out of 10 for constant + contemp\n",
      "Fitting 1-th bootstrap out of 10 for change + contemp\n",
      "Fitting 1-th bootstrap out of 10 for constant + temporal\n",
      "Fitting 1-th bootstrap out of 10 for change + temporal\n",
      "Fitting 2-th bootstrap out of 10 for constant + contemp\n",
      "Fitting 2-th bootstrap out of 10 for change + contemp\n",
      "Fitting 2-th bootstrap out of 10 for constant + temporal\n",
      "Fitting 2-th bootstrap out of 10 for change + temporal\n",
      "Fitting 3-th bootstrap out of 10 for constant + contemp\n",
      "Fitting 3-th bootstrap out of 10 for change + contemp\n",
      "Fitting 3-th bootstrap out of 10 for constant + temporal\n",
      "Fitting 3-th bootstrap out of 10 for change + temporal\n",
      "Fitting 4-th bootstrap out of 10 for constant + contemp\n",
      "Fitting 4-th bootstrap out of 10 for change + contemp\n",
      "Fitting 4-th bootstrap out of 10 for constant + temporal\n",
      "Fitting 4-th bootstrap out of 10 for change + temporal\n",
      "Fitting 5-th bootstrap out of 10 for constant + contemp\n",
      "Fitting 5-th bootstrap out of 10 for change + contemp\n",
      "Fitting 5-th bootstrap out of 10 for constant + temporal\n",
      "Fitting 5-th bootstrap out of 10 for change + temporal\n",
      "Fitting 6-th bootstrap out of 10 for constant + contemp\n",
      "Fitting 6-th bootstrap out of 10 for change + contemp\n",
      "Fitting 6-th bootstrap out of 10 for constant + temporal\n",
      "Fitting 6-th bootstrap out of 10 for change + temporal\n",
      "Fitting 7-th bootstrap out of 10 for constant + contemp\n",
      "Fitting 7-th bootstrap out of 10 for change + contemp\n",
      "Fitting 7-th bootstrap out of 10 for constant + temporal\n",
      "Fitting 7-th bootstrap out of 10 for change + temporal\n",
      "Fitting 8-th bootstrap out of 10 for constant + contemp\n",
      "Fitting 8-th bootstrap out of 10 for change + contemp\n",
      "Fitting 8-th bootstrap out of 10 for constant + temporal\n",
      "Fitting 8-th bootstrap out of 10 for change + temporal\n",
      "Fitting 9-th bootstrap out of 10 for constant + contemp\n",
      "Fitting 9-th bootstrap out of 10 for change + contemp\n",
      "Fitting 9-th bootstrap out of 10 for constant + temporal\n",
      "Fitting 9-th bootstrap out of 10 for change + temporal\n",
      "Fitting 10-th bootstrap out of 10 for constant + contemp\n",
      "Fitting 10-th bootstrap out of 10 for change + contemp\n",
      "Fitting 10-th bootstrap out of 10 for constant + temporal\n",
      "Fitting 10-th bootstrap out of 10 for change + temporal\n"
     ]
    }
   ],
   "source": [
    "#bootstrapping\n",
    "n_bootstraps = 10\n",
    "# make copies of the original models to avoid changing them\n",
    "model_inf_cons_cont_copy = model_inf_constant_contemp.copy()\n",
    "model_inf_change_cont_copy = model_inf_change_contemp.copy()\n",
    "model_inf_cons_temp_copy = model_inf_constant_temporal.copy()\n",
    "model_inf_change_temp_copy = model_inf_change_temporal.copy()\n",
    "\n",
    "bootstrap_cons_cont = []\n",
    "bootstrap_change_cont = []\n",
    "bootstrap_cons_temp = []\n",
    "bootstrap_change_temp = []\n",
    "\n",
    "\n",
    "for i in range(n_bootstraps):\n",
    "\n",
    "    # resample the data\n",
    "    resampled_sfs = sfs.resample()\n",
    "\n",
    "    print(f\"Fitting {i+1}-th bootstrap out of {n_bootstraps} for constant + contemp\")\n",
    "\n",
    "    # tell model to use the new dataset\n",
    "    model_inf_cons_cont_copy.set_data(resampled_sfs)\n",
    "    # choose new random parameters for submodel, optimize\n",
    "    model_inf_cons_cont_copy.set_params(randomize=True)\n",
    "    model_inf_cons_cont_copy.optimize()\n",
    "    # append results\n",
    "    bootstrap_cons_cont.append(model_inf_cons_cont_copy.get_params())\n",
    "\n",
    "    print(f\"Fitting {i+1}-th bootstrap out of {n_bootstraps} for change + contemp\")\n",
    "\n",
    "    # tell model to use the new dataset\n",
    "    model_inf_change_cont_copy.set_data(resampled_sfs)\n",
    "    # choose new random parameters for submodel, optimize\n",
    "    model_inf_change_cont_copy.set_params(randomize=True)\n",
    "    model_inf_change_cont_copy.optimize()\n",
    "    # append results\n",
    "    bootstrap_change_cont.append(model_inf_change_cont_copy.get_params())\n",
    "\n",
    "    print(f\"Fitting {i+1}-th bootstrap out of {n_bootstraps} for constant + temporal\")\n",
    "\n",
    "    # tell model to use the new dataset\n",
    "    model_inf_cons_temp_copy.set_data(resampled_sfs)\n",
    "    # choose new random parameters for submodel, optimize\n",
    "    model_inf_cons_temp_copy.set_params(randomize=True)\n",
    "    model_inf_cons_temp_copy.optimize()\n",
    "    # append results\n",
    "    bootstrap_cons_temp.append(model_inf_cons_temp_copy.get_params())\n",
    "    \n",
    "    print(f\"Fitting {i+1}-th bootstrap out of {n_bootstraps} for change + temporal\")\n",
    "\n",
    "    # tell model to use the new dataset\n",
    "    model_inf_change_temp_copy.set_data(resampled_sfs)\n",
    "    # choose new random parameters for submodel, optimize\n",
    "    model_inf_change_temp_copy.set_params(randomize=True)\n",
    "    model_inf_change_temp_copy.optimize()\n",
    "    # append results\n",
    "    bootstrap_change_temp.append(model_inf_change_temp_copy.get_params())\n",
    "    "
   ]
  },
  {
   "cell_type": "code",
   "execution_count": 326,
   "metadata": {},
   "outputs": [
    {
     "data": {
      "text/plain": [
       "<matplotlib.legend.Legend at 0x7f90ab0a2450>"
      ]
     },
     "execution_count": 326,
     "metadata": {},
     "output_type": "execute_result"
    },
    {
     "data": {
      "image/png": "[encoded data removed]",
      "text/plain": [
       "<Figure size 432x576 with 2 Axes>"
      ]
     },
     "metadata": {
      "needs_background": "light"
     },
     "output_type": "display_data"
    }
   ],
   "source": [
    "# make canvas, but delay plotting the demography (draw=False)\n",
    "fig = momi.DemographyPlot(\n",
    "    model_inf_cons_cont_copy, [\"CON\"],\n",
    "    figsize=(6,8), linthreshy=150,\n",
    "    major_yticks=yticks,\n",
    "    draw=False)\n",
    "\n",
    "# plot bootstraps onto the canvas in transparency\n",
    "for params in bootstrap_cons_cont:\n",
    "    fig.add_bootstrap(\n",
    "        params,\n",
    "        # alpha=0: totally transparent. alpha=1: totally opaque\n",
    "        alpha=1/n_bootstraps)\n",
    "\n",
    "# now draw the inferred demography on top of the bootstraps\n",
    "fig.draw()\n",
    "fig.draw_N_legend(loc=\"upper left\")"
   ]
  },
  {
   "cell_type": "code",
   "execution_count": 327,
   "metadata": {},
   "outputs": [
    {
     "data": {
      "text/plain": [
       "<matplotlib.legend.Legend at 0x7f90a4241790>"
      ]
     },
     "execution_count": 327,
     "metadata": {},
     "output_type": "execute_result"
    },
    {
     "data": {
      "image/png": "[encoded data removed]",
      "text/plain": [
       "<Figure size 432x576 with 2 Axes>"
      ]
     },
     "metadata": {
      "needs_background": "light"
     },
     "output_type": "display_data"
    }
   ],
   "source": [
    "# make canvas, but delay plotting the demography (draw=False)\n",
    "fig = momi.DemographyPlot(\n",
    "    model_inf_change_cont_copy, [\"CON\"],\n",
    "    figsize=(6,8), linthreshy=150,\n",
    "    major_yticks=yticks,\n",
    "    draw=False)\n",
    "\n",
    "# plot bootstraps onto the canvas in transparency\n",
    "for params in bootstrap_change_cont:\n",
    "    fig.add_bootstrap(\n",
    "        params,\n",
    "        # alpha=0: totally transparent. alpha=1: totally opaque\n",
    "        alpha=1/n_bootstraps)\n",
    "\n",
    "# now draw the inferred demography on top of the bootstraps\n",
    "fig.draw()\n",
    "fig.draw_N_legend(loc=\"upper left\")"
   ]
  },
  {
   "cell_type": "code",
   "execution_count": 328,
   "metadata": {},
   "outputs": [
    {
     "data": {
      "text/plain": [
       "<matplotlib.legend.Legend at 0x7f90a986c650>"
      ]
     },
     "execution_count": 328,
     "metadata": {},
     "output_type": "execute_result"
    },
    {
     "data": {
      "image/png": "[encoded data removed]",
      "text/plain": [
       "<Figure size 432x576 with 2 Axes>"
      ]
     },
     "metadata": {
      "needs_background": "light"
     },
     "output_type": "display_data"
    }
   ],
   "source": [
    "# make canvas, but delay plotting the demography (draw=False)\n",
    "fig = momi.DemographyPlot(\n",
    "    model_inf_cons_temp_copy, [\"ALB\",\"CON\"],\n",
    "    figsize=(6,8), linthreshy=150,\n",
    "    major_yticks=yticks,\n",
    "    draw=False)\n",
    "\n",
    "# plot bootstraps onto the canvas in transparency\n",
    "for params in bootstrap_cons_temp:\n",
    "    fig.add_bootstrap(\n",
    "        params,\n",
    "        # alpha=0: totally transparent. alpha=1: totally opaque\n",
    "        alpha=1/n_bootstraps)\n",
    "\n",
    "# now draw the inferred demography on top of the bootstraps\n",
    "fig.draw()\n",
    "fig.draw_N_legend(loc=\"upper left\")"
   ]
  },
  {
   "cell_type": "code",
   "execution_count": 329,
   "metadata": {},
   "outputs": [
    {
     "data": {
      "text/plain": [
       "<matplotlib.legend.Legend at 0x7f90aab00250>"
      ]
     },
     "execution_count": 329,
     "metadata": {},
     "output_type": "execute_result"
    },
    {
     "data": {
      "image/png": "[encoded data removed]",
      "text/plain": [
       "<Figure size 432x576 with 2 Axes>"
      ]
     },
     "metadata": {
      "needs_background": "light"
     },
     "output_type": "display_data"
    }
   ],
   "source": [
    "# make canvas, but delay plotting the demography (draw=False)\n",
    "fig = momi.DemographyPlot(\n",
    "    model_inf_change_temp_copy, [\"ALB\",\"CON\"],\n",
    "    figsize=(6,8), linthreshy=150,\n",
    "    major_yticks=yticks,\n",
    "    draw=False)\n",
    "\n",
    "# plot bootstraps onto the canvas in transparency\n",
    "for params in bootstrap_change_temp:\n",
    "    fig.add_bootstrap(\n",
    "        params,\n",
    "        # alpha=0: totally transparent. alpha=1: totally opaque\n",
    "        alpha=1/n_bootstraps)\n",
    "\n",
    "# now draw the inferred demography on top of the bootstraps\n",
    "fig.draw()\n",
    "fig.draw_N_legend(loc=\"upper left\")"
   ]
  },
  {
   "cell_type": "code",
   "execution_count": 362,
   "metadata": {
    "scrolled": true
   },
   "outputs": [
    {
     "data": {
      "text/plain": [
       "[ParamsDict({'n_constant': 7187.811838520591}),\n",
       " ParamsDict({'n_constant': 7085.2306275034325}),\n",
       " ParamsDict({'n_constant': 7153.7807773038285}),\n",
       " ParamsDict({'n_constant': 7209.742024940019}),\n",
       " ParamsDict({'n_constant': 7332.586674111834}),\n",
       " ParamsDict({'n_constant': 7367.8310441437225}),\n",
       " ParamsDict({'n_constant': 7325.541133875443}),\n",
       " ParamsDict({'n_constant': 7507.111334451612}),\n",
       " ParamsDict({'n_constant': 7158.923062722362}),\n",
       " ParamsDict({'n_constant': 7363.238897515699})]"
      ]
     },
     "execution_count": 362,
     "metadata": {},
     "output_type": "execute_result"
    }
   ],
   "source": [
    "f = open(\"momi_bot_datasets_102820/cons_cont_output.txt\", \"a\")\n",
    "f.write(\"estimate from SFS\"+\"\\n\")\n",
    "f.write(str(model_inf_constant_contemp.get_params())+\"\\n\")\n",
    "f.write(\"bootstraps\"+\"\\n\")\n",
    "f.write(str(bootstrap_cons_cont)+\"\\n\")\n",
    "f.close()\n",
    "#model_inf_constant_contemp.get_params()\n",
    "bootstrap_cons_cont"
   ]
  },
  {
   "cell_type": "code",
   "execution_count": 356,
   "metadata": {},
   "outputs": [
    {
     "data": {
      "text/plain": [
       "7187.811838520591"
      ]
     },
     "execution_count": 356,
     "metadata": {},
     "output_type": "execute_result"
    }
   ],
   "source": [
    "bootstrap_cons_cont[0].get('n_constant')"
   ]
  },
  {
   "cell_type": "code",
   "execution_count": 353,
   "metadata": {},
   "outputs": [
    {
     "data": {
      "text/plain": [
       "10"
      ]
     },
     "execution_count": 353,
     "metadata": {},
     "output_type": "execute_result"
    }
   ],
   "source": [
    "len(bootstrap_cons_cont)"
   ]
  },
  {
   "cell_type": "code",
   "execution_count": 361,
   "metadata": {},
   "outputs": [
    {
     "name": "stdout",
     "output_type": "stream",
     "text": [
      "7187.811838520591\n",
      "7085.2306275034325\n",
      "7153.7807773038285\n",
      "7209.742024940019\n",
      "7332.586674111834\n",
      "7367.8310441437225\n",
      "7325.541133875443\n",
      "7507.111334451612\n",
      "7158.923062722362\n",
      "7363.238897515699\n"
     ]
    }
   ],
   "source": [
    "for i in range(len(bootstrap_cons_cont)):\n",
    "    print(bootstrap_cons_cont[i].get('n_constant'))"
   ]
  },
  {
   "cell_type": "code",
   "execution_count": 331,
   "metadata": {},
   "outputs": [
    {
     "data": {
      "text/plain": [
       "[ParamsDict({'n_alb': 9654.605137736435, 'n_bot': 161.4555723847451, 't_bot': 99.88906961047213}),\n",
       " ParamsDict({'n_alb': 9556.430367270841, 'n_bot': 153.07823557133085, 't_bot': 99.73023498146073}),\n",
       " ParamsDict({'n_alb': 9854.70195051894, 'n_bot': 148.68090955504942, 't_bot': 99.9995437662072}),\n",
       " ParamsDict({'n_alb': 9981.918423029441, 'n_bot': 143.8911211083554, 't_bot': 99.99469755976033}),\n",
       " ParamsDict({'n_alb': 10160.411310235258, 'n_bot': 149.2091322993241, 't_bot': 99.39785112815377}),\n",
       " ParamsDict({'n_alb': 9918.038995769479, 'n_bot': 157.4075346827735, 't_bot': 99.48075428277984}),\n",
       " ParamsDict({'n_alb': 9841.91720401498, 'n_bot': 1.1456452416721103, 't_bot': 0.67716547493914}),\n",
       " ParamsDict({'n_alb': 10197.472318719936, 'n_bot': 158.81760771632977, 't_bot': 99.23265934799275}),\n",
       " ParamsDict({'n_alb': 9807.11548833193, 'n_bot': 151.25147174957746, 't_bot': 99.96959063622748}),\n",
       " ParamsDict({'n_alb': 10103.576662482026, 'n_bot': 114.62002387772051, 't_bot': 74.50643607616172})]"
      ]
     },
     "execution_count": 331,
     "metadata": {},
     "output_type": "execute_result"
    }
   ],
   "source": [
    "f = open(\"momi_bot_datasets_102820/change_cont_output.txt\", \"a\")\n",
    "f.write(\"estimate from SFS\"+\"\\n\")\n",
    "f.write(str(model_inf_change_contemp.get_params())+\"\\n\")\n",
    "f.write(\"bootstraps\"+\"\\n\")\n",
    "f.write(str(bootstrap_change_cont)+\"\\n\")\n",
    "f.close()\n",
    "#model_inf_change_contemp.get_params()\n",
    "bootstrap_change_cont"
   ]
  },
  {
   "cell_type": "code",
   "execution_count": 332,
   "metadata": {},
   "outputs": [
    {
     "data": {
      "text/plain": [
       "[ParamsDict({'n_constant': 270.55391247659304}),\n",
       " ParamsDict({'n_constant': 256.83985223193264}),\n",
       " ParamsDict({'n_constant': 266.40642604099787}),\n",
       " ParamsDict({'n_constant': 22487.180814051688}),\n",
       " ParamsDict({'n_constant': 275.5657320301867}),\n",
       " ParamsDict({'n_constant': 276.6024940668417}),\n",
       " ParamsDict({'n_constant': 5417.402924199605}),\n",
       " ParamsDict({'n_constant': 309.89817392865046}),\n",
       " ParamsDict({'n_constant': 272.78203892883033}),\n",
       " ParamsDict({'n_constant': 285.58172752800414})]"
      ]
     },
     "execution_count": 332,
     "metadata": {},
     "output_type": "execute_result"
    }
   ],
   "source": [
    "f = open(\"momi_bot_datasets_102820/cons_temp_output.txt\", \"a\")\n",
    "f.write(\"estimate from SFS\"+\"\\n\")\n",
    "f.write(str(model_inf_constant_temporal.get_params())+\"\\n\")\n",
    "f.write(\"bootstraps\"+\"\\n\")\n",
    "f.write(str(bootstrap_cons_temp)+\"\\n\")\n",
    "f.close()\n",
    "#model_inf_constant_temporal.get_params()\n",
    "bootstrap_cons_temp"
   ]
  },
  {
   "cell_type": "code",
   "execution_count": 333,
   "metadata": {
    "scrolled": true
   },
   "outputs": [
    {
     "data": {
      "text/plain": [
       "[ParamsDict({'n_alb': 9935.11121300692, 'n_bot': 102.36635663072329, 't_bot': 65.69250721271975}),\n",
       " ParamsDict({'n_alb': 9951.84016551006, 'n_bot': 124.24920783183741, 't_bot': 85.40761028749587}),\n",
       " ParamsDict({'n_alb': 9905.029319832867, 'n_bot': 114.87682568298064, 't_bot': 76.20024722206564}),\n",
       " ParamsDict({'n_alb': 10039.854563175199, 'n_bot': 85.16019125308415, 't_bot': 57.3045605096728}),\n",
       " ParamsDict({'n_alb': 9900.23402860917, 'n_bot': 84.08341636544725, 't_bot': 53.73558464670357}),\n",
       " ParamsDict({'n_alb': 9958.419494882022, 'n_bot': 104.98984232784561, 't_bot': 66.31213486426668}),\n",
       " ParamsDict({'n_alb': 2500.424681097916, 'n_bot': 2525.3301421109154, 't_bot': 55.2607146192993}),\n",
       " ParamsDict({'n_alb': 9904.744077587507, 'n_bot': 113.37059225843232, 't_bot': 65.10288521136366}),\n",
       " ParamsDict({'n_alb': 9802.831073201576, 'n_bot': 66.38860012867198, 't_bot': 42.61319793735042}),\n",
       " ParamsDict({'n_alb': 9821.349901764313, 'n_bot': 48.62722565302557, 't_bot': 29.191880653328546})]"
      ]
     },
     "execution_count": 333,
     "metadata": {},
     "output_type": "execute_result"
    }
   ],
   "source": [
    "f = open(\"momi_bot_datasets_102820/change_temp_output.txt\", \"a\")\n",
    "f.write(\"estimate from SFS\"+\"\\n\")\n",
    "f.write(str(model_inf_change_temporal.get_params())+\"\\n\")\n",
    "f.write(\"bootstraps\"+\"\\n\")\n",
    "f.write(str(bootstrap_change_temp)+\"\\n\")\n",
    "f.close()\n",
    "#model_inf_change_temporal.get_params()\n",
    "bootstrap_change_temp"
   ]
  },
  {
   "cell_type": "code",
   "execution_count": null,
   "metadata": {},
   "outputs": [],
   "source": []
  },
  {
   "cell_type": "code",
   "execution_count": 340,
   "metadata": {},
   "outputs": [
    {
     "name": "stdout",
     "output_type": "stream",
     "text": [
      "2331633.302229497\n"
     ]
    }
   ],
   "source": [
    "nparam=len(model_inf_constant_temporal.get_params())\n",
    "lik=model_inf_constant_temporal.log_likelihood()\n",
    "AIC=2*nparam-2*lik\n",
    "print(AIC)"
   ]
  },
  {
   "cell_type": "code",
   "execution_count": 341,
   "metadata": {},
   "outputs": [
    {
     "name": "stdout",
     "output_type": "stream",
     "text": [
      "2078935.2941345775\n"
     ]
    }
   ],
   "source": [
    "nparam=len(model_inf_change_temporal.get_params())\n",
    "lik=model_inf_change_temporal.log_likelihood()\n",
    "AIC=2*nparam-2*lik\n",
    "print(AIC)"
   ]
  },
  {
   "cell_type": "code",
   "execution_count": 342,
   "metadata": {},
   "outputs": [
    {
     "name": "stdout",
     "output_type": "stream",
     "text": [
      "701084.902980586\n"
     ]
    }
   ],
   "source": [
    "nparam=len(model_inf_constant_contemp.get_params())\n",
    "lik=model_inf_constant_contemp.log_likelihood()\n",
    "AIC=2*nparam-2*lik\n",
    "print(AIC)"
   ]
  },
  {
   "cell_type": "code",
   "execution_count": 343,
   "metadata": {},
   "outputs": [
    {
     "name": "stdout",
     "output_type": "stream",
     "text": [
      "652350.0070268803\n"
     ]
    }
   ],
   "source": [
    "nparam=len(model_inf_change_contemp.get_params())\n",
    "lik=model_inf_change_contemp.log_likelihood()\n",
    "AIC=2*nparam-2*lik\n",
    "print(AIC)"
   ]
  },
  {
   "cell_type": "code",
   "execution_count": null,
   "metadata": {},
   "outputs": [],
   "source": []
  },
  {
   "cell_type": "code",
   "execution_count": null,
   "metadata": {},
   "outputs": [],
   "source": []
  },
  {
   "cell_type": "code",
   "execution_count": null,
   "metadata": {},
   "outputs": [],
   "source": []
  },
  {
   "cell_type": "code",
   "execution_count": null,
   "metadata": {},
   "outputs": [],
   "source": []
  },
  {
   "cell_type": "code",
   "execution_count": null,
   "metadata": {},
   "outputs": [],
   "source": []
  },
  {
   "cell_type": "code",
   "execution_count": null,
   "metadata": {},
   "outputs": [],
   "source": []
  },
  {
   "cell_type": "code",
   "execution_count": null,
   "metadata": {},
   "outputs": [],
   "source": []
  },
  {
   "cell_type": "code",
   "execution_count": null,
   "metadata": {},
   "outputs": [],
   "source": []
  },
  {
   "cell_type": "code",
   "execution_count": 70,
   "metadata": {},
   "outputs": [],
   "source": [
    "#here is a gradual decline model.\n",
    "\n",
    "NeAlb=1e6\n",
    "NeBot=1e2\n",
    "#shrink=\n",
    "tdecline=110\n",
    "model = momi.DemographicModel(N_e=NeAlb, gen_time=1,\n",
    "                              muts_per_gen=4.5e-8)\n",
    "model.add_leaf(\"Albatross\",N=NeAlb,t=110)\n",
    "model.add_leaf(\"Contemporary\",N=NeBot,g=-5e-2)\n",
    "model.set_size(\"Contemporary\", N=NeAlb,g=0, t=tdecline)\n",
    "model.move_lineages(\"Albatross\",\"Contemporary\",t=110)"
   ]
  },
  {
   "cell_type": "code",
   "execution_count": 71,
   "metadata": {},
   "outputs": [
    {
     "data": {
      "image/png": "[encoded data removed]",
      "text/plain": [
       "<Figure size 432x576 with 2 Axes>"
      ]
     },
     "metadata": {
      "needs_background": "light"
     },
     "output_type": "display_data"
    }
   ],
   "source": [
    "%matplotlib inline\n",
    "\n",
    "yticks = [20, 40, 60, 80, 100, 120, 1000, 10000, 100000]\n",
    "\n",
    "fig = momi.DemographyPlot(\n",
    "    model, [\"Albatross\", \"Contemporary\"],\n",
    "    figsize=(6,8),\n",
    "    major_yticks=yticks,\n",
    "    linthreshy=150)"
   ]
  },
  {
   "cell_type": "code",
   "execution_count": null,
   "metadata": {},
   "outputs": [],
   "source": []
  }
 ],
 "metadata": {
  "kernelspec": {
   "display_name": "Python 3",
   "language": "python",
   "name": "python3"
  },
  "language_info": {
   "codemirror_mode": {
    "name": "ipython",
    "version": 3
   },
   "file_extension": ".py",
   "mimetype": "text/x-python",
   "name": "python",
   "nbconvert_exporter": "python",
   "pygments_lexer": "ipython3",
   "version": "3.7.8"
  }
 },
 "nbformat": 4,
 "nbformat_minor": 4
}
