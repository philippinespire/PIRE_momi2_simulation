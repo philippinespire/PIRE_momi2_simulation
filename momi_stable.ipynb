{
 "cells": [
  {
   "cell_type": "code",
   "execution_count": 105,
   "metadata": {},
   "outputs": [],
   "source": [
    "import momi\n",
    "import numpy\n",
    "import pathlib\n",
    "import os"
   ]
  },
  {
   "cell_type": "code",
   "execution_count": 106,
   "metadata": {},
   "outputs": [],
   "source": [
    "# here is a stable population model with historical sampling\n",
    "# to actually generate data for this I had to add split event slightly before sampling\n",
    "\n",
    "NeConstant=1e4\n",
    "\n",
    "model_stab = momi.DemographicModel(N_e=NeConstant, gen_time=1,\n",
    "                              muts_per_gen=4.5e-8)\n",
    "model_stab.add_leaf(\"ALB\",N=NeConstant,t=110)\n",
    "model_stab.add_leaf(\"CON\",N=NeConstant)\n",
    "model_stab.move_lineages(\"CON\",\"ALB\",t=110.01)"
   ]
  },
  {
   "cell_type": "code",
   "execution_count": 108,
   "metadata": {},
   "outputs": [
    {
     "name": "stdout",
     "output_type": "stream",
     "text": [
      "/Users/nerdbrained/Documents/GitHub/PIRE_momi2_simulation/momi_sims/momi_stable_sims/momi_stable_10e4_it0\n",
      "/Users/nerdbrained/Documents/GitHub/PIRE_momi2_simulation/momi_sims/momi_stable_sims/momi_stable_10e4_it0\n"
     ]
    }
   ],
   "source": [
    "# name of sim set + output files. export simdir to os for running scripts\n",
    "curpath=pathlib.Path().parent.absolute()\n",
    "\n",
    "it=0\n",
    "\n",
    "exp=int(numpy.log10(NeConstant))\n",
    "\n",
    "simset=\"momi_stable_10e\"+str(exp)+\"_it\"+str(it)\n",
    "\n",
    "simdir=str(curpath)+\"/momi_sims/momi_stable_sims/\" + simset\n",
    "\n",
    "print(simdir)\n",
    "\n",
    "os.environ['simdir']=simdir\n",
    "\n",
    "print(os.getenv('simdir'))"
   ]
  },
  {
   "cell_type": "code",
   "execution_count": 109,
   "metadata": {},
   "outputs": [],
   "source": [
    "#simulating data - 25 chromosomes, 200 rad loci * 300 bp each per chromosome. \n",
    "#not completely realistic - could simulate whole chromosomes, create bed file specifying RAD loci, then extract SFS?\n",
    "#Think about recomb rate! \n",
    "\n",
    "recoms_per_gen = 1.25e-8\n",
    "bases_per_locus = int(6e5)\n",
    "n_loci = 25\n",
    "ploidy = 2\n",
    "\n",
    "# n_alleles per population (n_individuals = n_alleles / ploidy)\n",
    "sampled_n_dict = {\"ALB\":200, \"CON\":200}\n",
    "\n",
    "# create data directory if it doesn't exist\n",
    "pathlib.Path(simdir).mkdir(parents=True, exist_ok=True)\n",
    "\n",
    "# simulate 20 \"chromosomes\", saving each in a separate vcf file\n",
    "for chrom in range(1, n_loci+1):\n",
    "      model_stab.simulate_vcf(\n",
    "            f\"{simdir}/{chrom}\",\n",
    "            recoms_per_gen=recoms_per_gen,\n",
    "            length=bases_per_locus,\n",
    "            chrom_name=f\"chr{chrom}\",\n",
    "            ploidy=ploidy,\n",
    "            random_seed=1234+chrom,\n",
    "            sampled_n_dict=sampled_n_dict,\n",
    "            force=True)"
   ]
  },
  {
   "cell_type": "code",
   "execution_count": 110,
   "metadata": {},
   "outputs": [],
   "source": [
    "# need a dict mapping samples to populations\n",
    "ind2pop = {}\n",
    "for pop, n in sampled_n_dict.items():\n",
    "    for i in range(int(n / ploidy)):\n",
    "        # in the vcf, samples are named like YRI_0, YRI_1, CHB_0, etc\n",
    "        ind2pop[\"{}_{}\".format(pop, i)] = pop\n",
    "\n",
    "with open(simdir+\"/ind2pop.txt\", \"w\") as f:\n",
    "    for i, p in ind2pop.items():\n",
    "        print(i, p, sep=\"\\t\", file=f)"
   ]
  },
  {
   "cell_type": "code",
   "execution_count": 111,
   "metadata": {},
   "outputs": [],
   "source": [
    "# can't comment in commands with %%sh so I will explain these next two steps here\n",
    "# first compute allele counts with momi.read_vcf\n",
    "# usage: python -m momi.read_vcf $VCF $IND2POP $OUTFILE --bed $BED:\n",
    "# then extract combined SFS, split into 100 blocks for jackknifing / bootstrap\n",
    "# format: python -m momi.extract_sfs $OUTFILE $NBLOCKS $COUNTS..."
   ]
  },
  {
   "cell_type": "code",
   "execution_count": 112,
   "metadata": {},
   "outputs": [],
   "source": [
    "%%sh\n",
    "for chrom in `seq 1 25`;\n",
    "do\n",
    "    python -m momi.read_vcf \\\n",
    "           ${simdir}/${chrom}.vcf.gz ${simdir}/ind2pop.txt \\\n",
    "           ${simdir}/${chrom}.snpAlleleCounts.gz \\\n",
    "           --bed ${simdir}/${chrom}.bed\n",
    "done"
   ]
  },
  {
   "cell_type": "code",
   "execution_count": 113,
   "metadata": {},
   "outputs": [],
   "source": [
    "%%sh\n",
    "python -m momi.extract_sfs ${simdir}/sfs.gz 100 ${simdir}/*.snpAlleleCounts.gz"
   ]
  },
  {
   "cell_type": "code",
   "execution_count": 114,
   "metadata": {},
   "outputs": [],
   "source": [
    "# read sfs into python!\n",
    "sfsfile=simdir+\"/sfs.gz\"\n",
    "sfs = momi.Sfs.load(sfsfile)"
   ]
  },
  {
   "cell_type": "code",
   "execution_count": 115,
   "metadata": {},
   "outputs": [],
   "source": [
    "#set model for inference - constant pop size, contemporary samples only!\n",
    "model_inf_constant_contemp =  momi.DemographicModel(N_e=NeConstant, gen_time=1, muts_per_gen=4.5e-8)"
   ]
  },
  {
   "cell_type": "code",
   "execution_count": 116,
   "metadata": {},
   "outputs": [],
   "source": [
    "#add data to model\n",
    "model_inf_constant_contemp.set_data(sfs)"
   ]
  },
  {
   "cell_type": "code",
   "execution_count": 117,
   "metadata": {},
   "outputs": [],
   "source": [
    "#define parameters to infer\n",
    "model_inf_constant_contemp.add_size_param(\"n_constant\")"
   ]
  },
  {
   "cell_type": "code",
   "execution_count": 118,
   "metadata": {},
   "outputs": [],
   "source": [
    "model_inf_constant_contemp.add_leaf(\"CON\",N=\"n_constant\")"
   ]
  },
  {
   "cell_type": "code",
   "execution_count": 119,
   "metadata": {
    "scrolled": true
   },
   "outputs": [
    {
     "data": {
      "text/plain": [
       "            fun: 0.0025643333154350073\n",
       "            jac: array([-1.36934186e-16])\n",
       "  kl_divergence: 0.0025643333154350073\n",
       " log_likelihood: -657829.6913745445\n",
       "        message: 'Converged (|f_n-f_(n-1)| ~= 0)'\n",
       "           nfev: 9\n",
       "            nit: 4\n",
       "     parameters: ParamsDict({'n_constant': 10087.06117625251})\n",
       "         status: 1\n",
       "        success: True\n",
       "              x: array([9.21900881])"
      ]
     },
     "execution_count": 119,
     "metadata": {},
     "output_type": "execute_result"
    }
   ],
   "source": [
    "model_inf_constant_contemp.optimize(method=\"TNC\")"
   ]
  },
  {
   "cell_type": "code",
   "execution_count": 120,
   "metadata": {},
   "outputs": [],
   "source": [
    "#set model for inference - contemporary samples, 2 different pop sizes assumed!\n",
    "model_inf_change_contemp =  momi.DemographicModel(N_e=NeConstant, gen_time=1, muts_per_gen=4.5e-8)"
   ]
  },
  {
   "cell_type": "code",
   "execution_count": 121,
   "metadata": {},
   "outputs": [],
   "source": [
    "#add data to model\n",
    "model_inf_change_contemp.set_data(sfs)"
   ]
  },
  {
   "cell_type": "code",
   "execution_count": 122,
   "metadata": {},
   "outputs": [],
   "source": [
    "#define parameters to infer - model with size change and unknown time of decline\n",
    "model_inf_change_contemp.add_size_param(\"n_alb\")\n",
    "model_inf_change_contemp.add_size_param(\"n_bot\")\n",
    "model_inf_change_contemp.add_time_param(\"t_bot\",upper=1e2)"
   ]
  },
  {
   "cell_type": "code",
   "execution_count": 123,
   "metadata": {},
   "outputs": [],
   "source": [
    "model_inf_change_contemp.add_leaf(\"CON\",N=\"n_bot\")\n",
    "model_inf_change_contemp.set_size(\"CON\", N=\"n_alb\", t=\"t_bot\")"
   ]
  },
  {
   "cell_type": "code",
   "execution_count": 124,
   "metadata": {},
   "outputs": [
    {
     "data": {
      "text/plain": [
       "            fun: 0.0025619968686838458\n",
       "            jac: array([ 1.35221826e-07,  4.54966635e-07, -7.99094426e-07])\n",
       "  kl_divergence: 0.0025619968686838458\n",
       " log_likelihood: -657829.322101472\n",
       "        message: 'Converged (|f_n-f_(n-1)| ~= 0)'\n",
       "           nfev: 15\n",
       "            nit: 7\n",
       "     parameters: ParamsDict({'n_alb': 10087.670169616586, 'n_bot': 9177.080508326308, 't_bot': 12.662631422845246})\n",
       "         status: 1\n",
       "        success: True\n",
       "              x: array([ 9.21906918,  9.12446441, -1.93112317])"
      ]
     },
     "execution_count": 124,
     "metadata": {},
     "output_type": "execute_result"
    }
   ],
   "source": [
    "model_inf_change_contemp.optimize(method=\"TNC\")"
   ]
  },
  {
   "cell_type": "code",
   "execution_count": 125,
   "metadata": {},
   "outputs": [],
   "source": [
    "#set model for inference - albatross +contemporary samples, constant pop size assumed!\n",
    "model_inf_constant_temporal =  momi.DemographicModel(N_e=NeAlb, gen_time=1, muts_per_gen=4.5e-8)"
   ]
  },
  {
   "cell_type": "code",
   "execution_count": 126,
   "metadata": {},
   "outputs": [],
   "source": [
    "#add data to model\n",
    "model_inf_constant_temporal.set_data(sfs)"
   ]
  },
  {
   "cell_type": "code",
   "execution_count": 127,
   "metadata": {},
   "outputs": [],
   "source": [
    "#define parameters to infer - model with size change and unknown time of decline\n",
    "model_inf_constant_temporal.add_size_param(\"n_constant\")"
   ]
  },
  {
   "cell_type": "code",
   "execution_count": 128,
   "metadata": {},
   "outputs": [],
   "source": [
    "model_inf_constant_temporal.add_leaf(\"ALB\",N=\"n_constant\",t=109)\n",
    "model_inf_constant_temporal.add_leaf(\"CON\",N=\"n_constant\")\n",
    "model_inf_constant_temporal.move_lineages(\"CON\",\"ALB\",t=110)"
   ]
  },
  {
   "cell_type": "code",
   "execution_count": 129,
   "metadata": {},
   "outputs": [
    {
     "data": {
      "text/plain": [
       "            fun: 0.09652886797354837\n",
       "            jac: array([1.32415126e-13])\n",
       "  kl_divergence: 0.09652886797354837\n",
       " log_likelihood: -1207638.1648431933\n",
       "        message: 'Converged (|f_n-f_(n-1)| ~= 0)'\n",
       "           nfev: 9\n",
       "            nit: 4\n",
       "     parameters: ParamsDict({'n_constant': 10258.596563560162})\n",
       "         status: 1\n",
       "        success: True\n",
       "              x: array([9.23587132])"
      ]
     },
     "execution_count": 129,
     "metadata": {},
     "output_type": "execute_result"
    }
   ],
   "source": [
    "model_inf_constant_temporal.optimize(method=\"TNC\")"
   ]
  },
  {
   "cell_type": "code",
   "execution_count": 130,
   "metadata": {},
   "outputs": [],
   "source": [
    "#set model for inference - albatross + contemporary samples, 2 different pop sizes assumed!\n",
    "model_inf_change_temporal =  momi.DemographicModel(N_e=NeAlb, gen_time=1, muts_per_gen=4.5e-8)"
   ]
  },
  {
   "cell_type": "code",
   "execution_count": 131,
   "metadata": {},
   "outputs": [],
   "source": [
    "#add data to model\n",
    "model_inf_change_temporal.set_data(sfs)"
   ]
  },
  {
   "cell_type": "code",
   "execution_count": 132,
   "metadata": {},
   "outputs": [],
   "source": [
    "#define parameters to infer - model with unknown time of decline\n",
    "model_inf_change_temporal.add_size_param(\"n_alb\")\n",
    "model_inf_change_temporal.add_size_param(\"n_bot\")\n",
    "model_inf_change_temporal.add_time_param(\"t_bot\",upper=1e2)"
   ]
  },
  {
   "cell_type": "code",
   "execution_count": 133,
   "metadata": {},
   "outputs": [],
   "source": [
    "model_inf_change_temporal.add_leaf(\"CON\",N=\"n_bot\")\n",
    "model_inf_change_temporal.add_leaf(\"ALB\",N=\"n_alb\",t=109)\n",
    "model_inf_change_temporal.move_lineages(\"CON\",\"ALB\",t=110)\n",
    "model_inf_change_temporal.set_size(\"CON\", N=\"n_alb\", t=\"t_bot\")"
   ]
  },
  {
   "cell_type": "code",
   "execution_count": 134,
   "metadata": {},
   "outputs": [
    {
     "data": {
      "text/plain": [
       "            fun: 0.09650355779655553\n",
       "            jac: array([ 5.59259408e-05,  1.18148584e-06, -1.70193492e-06])\n",
       "  kl_divergence: 0.09650355779655553\n",
       " log_likelihood: -1207633.5256396115\n",
       "        message: 'Converged (|f_n-f_(n-1)| ~= 0)'\n",
       "           nfev: 19\n",
       "            nit: 7\n",
       "     parameters: ParamsDict({'n_alb': 10197.917040429651, 'n_bot': 13433.602418469209, 't_bot': 10.654276956027644})\n",
       "         status: 1\n",
       "        success: True\n",
       "              x: array([ 9.22993877,  9.50551449, -2.12655197])"
      ]
     },
     "execution_count": 134,
     "metadata": {},
     "output_type": "execute_result"
    }
   ],
   "source": [
    "model_inf_change_temporal.optimize(method=\"TNC\")"
   ]
  },
  {
   "cell_type": "code",
   "execution_count": 135,
   "metadata": {},
   "outputs": [
    {
     "name": "stdout",
     "output_type": "stream",
     "text": [
      "Fitting 1-th bootstrap out of 10 for constant + contemp\n",
      "Fitting 1-th bootstrap out of 10 for change + contemp\n",
      "Fitting 1-th bootstrap out of 10 for constant + temporal\n",
      "Fitting 1-th bootstrap out of 10 for change + temporal\n",
      "Fitting 2-th bootstrap out of 10 for constant + contemp\n",
      "Fitting 2-th bootstrap out of 10 for change + contemp\n",
      "Fitting 2-th bootstrap out of 10 for constant + temporal\n",
      "Fitting 2-th bootstrap out of 10 for change + temporal\n",
      "Fitting 3-th bootstrap out of 10 for constant + contemp\n",
      "Fitting 3-th bootstrap out of 10 for change + contemp\n",
      "Fitting 3-th bootstrap out of 10 for constant + temporal\n",
      "Fitting 3-th bootstrap out of 10 for change + temporal\n",
      "Fitting 4-th bootstrap out of 10 for constant + contemp\n",
      "Fitting 4-th bootstrap out of 10 for change + contemp\n",
      "Fitting 4-th bootstrap out of 10 for constant + temporal\n",
      "Fitting 4-th bootstrap out of 10 for change + temporal\n",
      "Fitting 5-th bootstrap out of 10 for constant + contemp\n",
      "Fitting 5-th bootstrap out of 10 for change + contemp\n",
      "Fitting 5-th bootstrap out of 10 for constant + temporal\n",
      "Fitting 5-th bootstrap out of 10 for change + temporal\n",
      "Fitting 6-th bootstrap out of 10 for constant + contemp\n",
      "Fitting 6-th bootstrap out of 10 for change + contemp\n",
      "Fitting 6-th bootstrap out of 10 for constant + temporal\n",
      "Fitting 6-th bootstrap out of 10 for change + temporal\n",
      "Fitting 7-th bootstrap out of 10 for constant + contemp\n",
      "Fitting 7-th bootstrap out of 10 for change + contemp\n",
      "Fitting 7-th bootstrap out of 10 for constant + temporal\n",
      "Fitting 7-th bootstrap out of 10 for change + temporal\n",
      "Fitting 8-th bootstrap out of 10 for constant + contemp\n",
      "Fitting 8-th bootstrap out of 10 for change + contemp\n",
      "Fitting 8-th bootstrap out of 10 for constant + temporal\n",
      "Fitting 8-th bootstrap out of 10 for change + temporal\n",
      "Fitting 9-th bootstrap out of 10 for constant + contemp\n",
      "Fitting 9-th bootstrap out of 10 for change + contemp\n",
      "Fitting 9-th bootstrap out of 10 for constant + temporal\n",
      "Fitting 9-th bootstrap out of 10 for change + temporal\n",
      "Fitting 10-th bootstrap out of 10 for constant + contemp\n",
      "Fitting 10-th bootstrap out of 10 for change + contemp\n",
      "Fitting 10-th bootstrap out of 10 for constant + temporal\n",
      "Fitting 10-th bootstrap out of 10 for change + temporal\n"
     ]
    }
   ],
   "source": [
    "#bootstrapping\n",
    "n_bootstraps = 10\n",
    "# make copies of the original models to avoid changing them\n",
    "model_inf_cons_cont_copy = model_inf_constant_contemp.copy()\n",
    "model_inf_change_cont_copy = model_inf_change_contemp.copy()\n",
    "model_inf_cons_temp_copy = model_inf_constant_temporal.copy()\n",
    "model_inf_change_temp_copy = model_inf_change_temporal.copy()\n",
    "\n",
    "bootstrap_cons_cont = []\n",
    "bootstrap_change_cont = []\n",
    "bootstrap_cons_temp = []\n",
    "bootstrap_change_temp = []\n",
    "\n",
    "\n",
    "for i in range(n_bootstraps):\n",
    "\n",
    "    # resample the data\n",
    "    resampled_sfs = sfs.resample()\n",
    "\n",
    "    print(f\"Fitting {i+1}-th bootstrap out of {n_bootstraps} for constant + contemp\")\n",
    "\n",
    "    # tell model to use the new dataset\n",
    "    model_inf_cons_cont_copy.set_data(resampled_sfs)\n",
    "    # choose new random parameters for submodel, optimize\n",
    "    model_inf_cons_cont_copy.set_params(randomize=True)\n",
    "    model_inf_cons_cont_copy.optimize()\n",
    "    # append results\n",
    "    bootstrap_cons_cont.append(model_inf_cons_cont_copy.get_params())\n",
    "\n",
    "    print(f\"Fitting {i+1}-th bootstrap out of {n_bootstraps} for change + contemp\")\n",
    "\n",
    "    # tell model to use the new dataset\n",
    "    model_inf_change_cont_copy.set_data(resampled_sfs)\n",
    "    # choose new random parameters for submodel, optimize\n",
    "    model_inf_change_cont_copy.set_params(randomize=True)\n",
    "    model_inf_change_cont_copy.optimize()\n",
    "    # append results\n",
    "    bootstrap_change_cont.append(model_inf_change_cont_copy.get_params())\n",
    "\n",
    "    print(f\"Fitting {i+1}-th bootstrap out of {n_bootstraps} for constant + temporal\")\n",
    "\n",
    "    # tell model to use the new dataset\n",
    "    model_inf_cons_temp_copy.set_data(resampled_sfs)\n",
    "    # choose new random parameters for submodel, optimize\n",
    "    model_inf_cons_temp_copy.set_params(randomize=True)\n",
    "    model_inf_cons_temp_copy.optimize()\n",
    "    # append results\n",
    "    bootstrap_cons_temp.append(model_inf_cons_temp_copy.get_params())\n",
    "    \n",
    "    print(f\"Fitting {i+1}-th bootstrap out of {n_bootstraps} for change + temporal\")\n",
    "\n",
    "    # tell model to use the new dataset\n",
    "    model_inf_change_temp_copy.set_data(resampled_sfs)\n",
    "    # choose new random parameters for submodel, optimize\n",
    "    model_inf_change_temp_copy.set_params(randomize=True)\n",
    "    model_inf_change_temp_copy.optimize()\n",
    "    # append results\n",
    "    bootstrap_change_temp.append(model_inf_change_temp_copy.get_params())\n",
    "    "
   ]
  },
  {
   "cell_type": "code",
   "execution_count": 136,
   "metadata": {},
   "outputs": [],
   "source": [
    "cn=model_inf_constant_contemp.get_params().get('n_constant')\n",
    "nparam1=len(model_inf_constant_contemp.get_params())\n",
    "lik1=model_inf_constant_contemp.log_likelihood()\n",
    "AIC1=2*nparam1-2*lik1\n",
    "cnh=model_inf_change_contemp.get_params().get('n_alb')\n",
    "cnc=model_inf_change_contemp.get_params().get('n_bot')\n",
    "ct=model_inf_change_contemp.get_params().get('t_bot')\n",
    "nparam2=len(model_inf_change_contemp.get_params())\n",
    "lik2=model_inf_change_contemp.log_likelihood()\n",
    "AIC2=2*nparam2-2*lik2\n",
    "tn=model_inf_constant_temporal.get_params().get('n_constant')\n",
    "nparam3=len(model_inf_constant_temporal.get_params())\n",
    "lik3=model_inf_constant_temporal.log_likelihood()\n",
    "AIC3=2*nparam3-2*lik3\n",
    "tnh=model_inf_change_temporal.get_params().get('n_alb')\n",
    "tnc=model_inf_change_temporal.get_params().get('n_bot')\n",
    "tt=model_inf_change_temporal.get_params().get('t_bot')\n",
    "nparam4=len(model_inf_change_temporal.get_params())\n",
    "lik4=model_inf_change_temporal.log_likelihood()\n",
    "AIC4=2*nparam4-2*lik4"
   ]
  },
  {
   "cell_type": "code",
   "execution_count": 137,
   "metadata": {
    "scrolled": true
   },
   "outputs": [],
   "source": [
    "estimate=simdir+\"/estimates.csv\"\n",
    "f = open(estimate,\"a\")\n",
    "f.write(\"Model,Data,Nh,Nc,T,lnL,AIC\"+\"\\n\")\n",
    "f.write(\"Constant,Contemporary,\"+str(cn)+\",\"+str(cn)+\",NA,\"+str(lik1)+\",\"+str(AIC1)+\"\\n\")\n",
    "f.write(\"Change,Contemporary,\"+str(cnh)+\",\"+str(cnc)+\",\"+str(ct)+\",\"+str(lik2)+\",\"+str(AIC2)+\"\\n\")\n",
    "f.write(\"Constant,Temporal,\"+str(tn)+\",\"+str(tn)+\",NA,\"+str(lik3)+\",\"+str(AIC3)+\"\\n\")\n",
    "f.write(\"Change,Temporal,\"+str(tnh)+\",\"+str(tnc)+\",\"+str(tt)+\",\"+str(lik4)+\",\"+str(AIC4))\n",
    "f.close()"
   ]
  },
  {
   "cell_type": "code",
   "execution_count": 138,
   "metadata": {},
   "outputs": [],
   "source": [
    "boot=simdir+\"/bootstraps.csv\"\n",
    "f = open(boot,\"a\")\n",
    "f.write(\"Model,Data,Param,b1,b2,b3,b4,b5,b6,b7,b8,b9,b10\"+\"\\n\")\n",
    "f.write(\"Constant,Contemporary,Nconstant\")\n",
    "for i in range(len(bootstrap_cons_cont)):\n",
    "    f.write(',')\n",
    "    f.write(str(bootstrap_cons_cont[i].get('n_constant')))\n",
    "f.write('\\n')\n",
    "f.write(\"Change,Contemporary,Nhistoric\")\n",
    "for i in range(len(bootstrap_change_cont)):\n",
    "    f.write(',')\n",
    "    f.write(str(bootstrap_change_cont[i].get('n_alb')))\n",
    "f.write('\\n')\n",
    "f.write(\"Change,Contemporary,Ncontemporary\")\n",
    "for i in range(len(bootstrap_change_cont)):\n",
    "    f.write(',')\n",
    "    f.write(str(bootstrap_change_cont[i].get('n_bot')))\n",
    "f.write('\\n')\n",
    "f.write(\"Change,Contemporary,Tbottleneck\")\n",
    "for i in range(len(bootstrap_change_cont)):\n",
    "    f.write(',')\n",
    "    f.write(str(bootstrap_change_cont[i].get('t_bot')))\n",
    "f.write('\\n')\n",
    "f.write(\"Constant,Temporal,Nconstant\")\n",
    "for i in range(len(bootstrap_cons_temp)):\n",
    "    f.write(',')\n",
    "    f.write(str(bootstrap_cons_temp[i].get('n_constant')))\n",
    "f.write('\\n')\n",
    "f.write(\"Change,Temporal,Nhistoric\")\n",
    "for i in range(len(bootstrap_change_temp)):\n",
    "    f.write(',')\n",
    "    f.write(str(bootstrap_change_temp[i].get('n_alb')))\n",
    "f.write('\\n')\n",
    "f.write(\"Change,Temporal,Ncontemporary\")\n",
    "for i in range(len(bootstrap_change_temp)):\n",
    "    f.write(',')\n",
    "    f.write(str(bootstrap_change_temp[i].get('n_bot')))\n",
    "f.write('\\n')\n",
    "f.write(\"Change,Temporal,Tbottleneck\")\n",
    "for i in range(len(bootstrap_change_temp)):\n",
    "    f.write(',')\n",
    "    f.write(str(bootstrap_change_temp[i].get('t_bot')))\n",
    "f.close()"
   ]
  },
  {
   "cell_type": "code",
   "execution_count": null,
   "metadata": {},
   "outputs": [],
   "source": []
  }
 ],
 "metadata": {
  "kernelspec": {
   "display_name": "Python 3",
   "language": "python",
   "name": "python3"
  },
  "language_info": {
   "codemirror_mode": {
    "name": "ipython",
    "version": 3
   },
   "file_extension": ".py",
   "mimetype": "text/x-python",
   "name": "python",
   "nbconvert_exporter": "python",
   "pygments_lexer": "ipython3",
   "version": "3.7.8"
  }
 },
 "nbformat": 4,
 "nbformat_minor": 4
}
